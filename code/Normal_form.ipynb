{
 "cells": [
  {
   "cell_type": "code",
   "execution_count": 1,
   "metadata": {},
   "outputs": [],
   "source": [
    "import pymorphy2\n",
    "morph = pymorphy2.MorphAnalyzer()"
   ]
  },
  {
   "cell_type": "code",
   "execution_count": 6,
   "metadata": {},
   "outputs": [
    {
     "name": "stdout",
     "output_type": "stream",
     "text": [
      "Collecting pymorphy2\n",
      "  Downloading pymorphy2-0.9.1-py3-none-any.whl (55 kB)\n",
      "\u001b[K     |████████████████████████████████| 55 kB 1.5 MB/s eta 0:00:01\n",
      "\u001b[?25hCollecting dawg-python>=0.7.1\n",
      "  Downloading DAWG_Python-0.7.2-py2.py3-none-any.whl (11 kB)\n",
      "Collecting docopt>=0.6\n",
      "  Downloading docopt-0.6.2.tar.gz (25 kB)\n",
      "Collecting pymorphy2-dicts-ru<3.0,>=2.4\n",
      "  Downloading pymorphy2_dicts_ru-2.4.417127.4579844-py2.py3-none-any.whl (8.2 MB)\n",
      "\u001b[K     |████████████████████████████████| 8.2 MB 4.0 MB/s eta 0:00:01\n",
      "\u001b[?25hBuilding wheels for collected packages: docopt\n",
      "  Building wheel for docopt (setup.py) ... \u001b[?25ldone\n",
      "\u001b[?25h  Created wheel for docopt: filename=docopt-0.6.2-py2.py3-none-any.whl size=13724 sha256=4d24ab500d4d44cd3229e811b4d0fa3dfe20e922c8cbf78aa11d403ea8f634da\n",
      "  Stored in directory: /Users/romanchepenko/Library/Caches/pip/wheels/70/4a/46/1309fc853b8d395e60bafaf1b6df7845bdd82c95fd59dd8d2b\n",
      "Successfully built docopt\n",
      "Installing collected packages: pymorphy2-dicts-ru, docopt, dawg-python, pymorphy2\n",
      "Successfully installed dawg-python-0.7.2 docopt-0.6.2 pymorphy2-0.9.1 pymorphy2-dicts-ru-2.4.417127.4579844\n"
     ]
    }
   ],
   "source": [
    "!pip install pymorphy2"
   ]
  },
  {
   "cell_type": "code",
   "execution_count": 2,
   "metadata": {
    "scrolled": true
   },
   "outputs": [
    {
     "data": {
      "text/plain": [
       "'/Users/romanchepenko/Desktop/diplom/duma_analysis/code'"
      ]
     },
     "execution_count": 2,
     "metadata": {},
     "output_type": "execute_result"
    }
   ],
   "source": [
    "pwd "
   ]
  },
  {
   "cell_type": "code",
   "execution_count": 3,
   "metadata": {},
   "outputs": [
    {
     "name": "stdout",
     "output_type": "stream",
     "text": [
      "!\"#$%&'()*+,-./:;<=>?@[\\]^_`{|}~\n"
     ]
    }
   ],
   "source": [
    "import string\n",
    "print(string.punctuation)"
   ]
  },
  {
   "cell_type": "code",
   "execution_count": 4,
   "metadata": {},
   "outputs": [],
   "source": [
    "f = open('/Users/romanchepenko/Desktop/diplom/duma_analysis/data/duma_years/2022.txt', \"r\")\n",
    "text = f.read()"
   ]
  },
  {
   "cell_type": "code",
   "execution_count": 5,
   "metadata": {},
   "outputs": [],
   "source": [
    "text = text.lower()"
   ]
  },
  {
   "cell_type": "code",
   "execution_count": 6,
   "metadata": {},
   "outputs": [],
   "source": [
    "spec_chars = string.punctuation + '\\n\\xa0«»\\t—…' "
   ]
  },
  {
   "cell_type": "code",
   "execution_count": 7,
   "metadata": {},
   "outputs": [],
   "source": [
    "def remove_chars_from_text(text, chars):\n",
    "    return \"\".join([ch for ch in text if ch not in chars])"
   ]
  },
  {
   "cell_type": "code",
   "execution_count": 8,
   "metadata": {},
   "outputs": [],
   "source": [
    "text = remove_chars_from_text(text, spec_chars)\n",
    "text = remove_chars_from_text(text, string.digits)"
   ]
  },
  {
   "cell_type": "code",
   "execution_count": 9,
   "metadata": {},
   "outputs": [
    {
     "data": {
      "text/plain": [
       "' января здание государственной думы большой зал  января  года  часов председательствует председатель государственной думы в в володинпредседательствующий добрый день уважаемые коллеги просьба зарегистрироватьсяпожалуйста включите режим регистрацииколлеги объявляется регистрация  шум в зале  коллеги '"
      ]
     },
     "execution_count": 9,
     "metadata": {},
     "output_type": "execute_result"
    }
   ],
   "source": [
    "text[:300]"
   ]
  },
  {
   "cell_type": "code",
   "execution_count": 10,
   "metadata": {},
   "outputs": [
    {
     "name": "stdout",
     "output_type": "stream",
     "text": [
      "<class 'str'>\n"
     ]
    }
   ],
   "source": [
    "print(type(text))"
   ]
  },
  {
   "cell_type": "code",
   "execution_count": 11,
   "metadata": {
    "scrolled": true
   },
   "outputs": [
    {
     "data": {
      "text/plain": [
       "['января',\n",
       " 'здание',\n",
       " 'государственной',\n",
       " 'думы',\n",
       " 'большой',\n",
       " 'зал',\n",
       " 'января',\n",
       " 'года',\n",
       " 'часов',\n",
       " 'председательствует',\n",
       " 'председатель',\n",
       " 'государственной',\n",
       " 'думы',\n",
       " 'в',\n",
       " 'в',\n",
       " 'володинпредседательствующий',\n",
       " 'добрый',\n",
       " 'день',\n",
       " 'уважаемые',\n",
       " 'коллеги',\n",
       " 'просьба',\n",
       " 'зарегистрироватьсяпожалуйста',\n",
       " 'включите',\n",
       " 'режим',\n",
       " 'регистрацииколлеги',\n",
       " 'объявляется',\n",
       " 'регистрация',\n",
       " 'шум',\n",
       " 'в',\n",
       " 'зале',\n",
       " 'коллеги',\n",
       " 'идёт',\n",
       " 'регистрация',\n",
       " 'обращаю',\n",
       " 'вниманиепокажите',\n",
       " 'пожалуйста',\n",
       " 'результаты',\n",
       " 'регистрациирезультаты',\n",
       " 'регистрации',\n",
       " 'час',\n",
       " 'мин',\n",
       " 'секприсутствует',\n",
       " 'чел',\n",
       " 'отсутствует',\n",
       " 'чел',\n",
       " 'всего',\n",
       " 'депутатов',\n",
       " 'челне',\n",
       " 'зарегистрировано',\n",
       " 'чел',\n",
       " 'результат',\n",
       " 'кворум',\n",
       " 'естьколлеги',\n",
       " 'в',\n",
       " 'зале',\n",
       " 'присутствует',\n",
       " 'депутата',\n",
       " 'кворум',\n",
       " 'есть',\n",
       " 'мы',\n",
       " 'с',\n",
       " 'вами',\n",
       " 'можем',\n",
       " 'работать',\n",
       " 'вторая',\n",
       " 'сессия',\n",
       " 'восьмого',\n",
       " 'созыва',\n",
       " 'государственной',\n",
       " 'думы',\n",
       " 'объявляется',\n",
       " 'открытой',\n",
       " 'все',\n",
       " 'встают',\n",
       " 'звучит',\n",
       " 'государственный',\n",
       " 'гимн',\n",
       " 'российской',\n",
       " 'федерациипредседательствует',\n",
       " 'первый',\n",
       " 'заместитель',\n",
       " 'председателя',\n",
       " 'государственной',\n",
       " 'думы',\n",
       " 'и',\n",
       " 'и',\n",
       " 'мельниковпредседательствующий',\n",
       " 'уважаемые',\n",
       " 'коллеги',\n",
       " 'слово',\n",
       " 'для',\n",
       " 'выступления',\n",
       " 'предоставляется',\n",
       " 'председателю',\n",
       " 'государственной',\n",
       " 'думы',\n",
       " 'вячеславу',\n",
       " 'викторовичу',\n",
       " 'володину',\n",
       " 'аплодисментыволодин']"
      ]
     },
     "execution_count": 11,
     "metadata": {},
     "output_type": "execute_result"
    }
   ],
   "source": [
    "text_split = (text.rsplit())\n",
    "text_split [:100]"
   ]
  },
  {
   "cell_type": "code",
   "execution_count": 12,
   "metadata": {},
   "outputs": [],
   "source": [
    "with open(\"2022_norm.txt\", \"w\") as file:\n",
    "    for word in text_split:\n",
    "        p = morph.parse(word)[0]\n",
    "        file.write(p.normal_form + \" \" )"
   ]
  },
  {
   "cell_type": "code",
   "execution_count": null,
   "metadata": {},
   "outputs": [],
   "source": []
  }
 ],
 "metadata": {
  "kernelspec": {
   "display_name": "Python 3 (ipykernel)",
   "language": "python",
   "name": "python3"
  },
  "language_info": {
   "codemirror_mode": {
    "name": "ipython",
    "version": 3
   },
   "file_extension": ".py",
   "mimetype": "text/x-python",
   "name": "python",
   "nbconvert_exporter": "python",
   "pygments_lexer": "ipython3",
   "version": "3.9.7"
  }
 },
 "nbformat": 4,
 "nbformat_minor": 4
}
