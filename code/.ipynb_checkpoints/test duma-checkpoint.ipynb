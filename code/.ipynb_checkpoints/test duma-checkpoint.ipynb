{
 "cells": [
  {
   "cell_type": "code",
   "execution_count": null,
   "metadata": {},
   "outputs": [],
   "source": [
    "import re\n",
    "import requests\n",
    "import time\n",
    "import random\n",
    "from bs4 import BeautifulSoup\n",
    "from os import walk\n",
    "from os.path import join as pathjoin\n",
    "import dateparser\n",
    "\n",
    "import matplotlib.pyplot as plt\n",
    "from nltk.tokenize import word_tokenize\n",
    "import matplotlib.dates as mdates"
   ]
  },
  {
   "cell_type": "code",
   "execution_count": 81,
   "metadata": {},
   "outputs": [],
   "source": [
    "path  = 'http://transcript.duma.gov.ru/node/{}/'"
   ]
  },
  {
   "cell_type": "code",
   "execution_count": 3,
   "metadata": {},
   "outputs": [],
   "source": [
    "def to_non_existent (address):\n",
    "    with open('non_existent_scripts_list.txt','a') as nonex:\n",
    "            nonex.write(address)"
   ]
  },
  {
   "cell_type": "code",
   "execution_count": 4,
   "metadata": {},
   "outputs": [],
   "source": [
    "def write_to_file (numbstring, address):\n",
    "    filepath = 'output/{}.html'.format(numbstring)\n",
    "    response_transcript = requests.get (address)\n",
    "    if response_transcript.status_code == 200:\n",
    "        with open(filepath,mode = 'wb') as localfile:\n",
    "            localfile.write(response_transcript.content)\n",
    "    else:\n",
    "        to_non_existent (numbstring + '\\n')"
   ]
  },
  {
   "cell_type": "code",
   "execution_count": 9,
   "metadata": {},
   "outputs": [],
   "source": [
    "for number in range (1,5700): # 35,5402\n",
    "    numbstring = str(number)\n",
    "    address = path.format (numbstring)\n",
    "    randsleep = random.randint(3,9)/10\n",
    "    time.sleep (randsleep)\n",
    "    write_to_file (numbstring, address)"
   ]
  },
  {
   "cell_type": "code",
   "execution_count": 52,
   "metadata": {},
   "outputs": [],
   "source": [
    "mkdir txt_output"
   ]
  },
  {
   "cell_type": "code",
   "execution_count": 69,
   "metadata": {},
   "outputs": [
    {
     "name": "stdout",
     "output_type": "stream",
     "text": [
      "Collecting dateparser\n",
      "  Downloading dateparser-1.0.0-py2.py3-none-any.whl (279 kB)\n",
      "\u001b[K     |████████████████████████████████| 279 kB 1.8 MB/s eta 0:00:01\n",
      "\u001b[?25hRequirement already satisfied: regex!=2019.02.19 in ./opt/anaconda3/lib/python3.7/site-packages (from dateparser) (2020.10.28)\n",
      "Requirement already satisfied: pytz in ./opt/anaconda3/lib/python3.7/site-packages (from dateparser) (2019.3)\n",
      "Requirement already satisfied: python-dateutil in ./opt/anaconda3/lib/python3.7/site-packages (from dateparser) (2.8.1)\n",
      "Collecting tzlocal\n",
      "  Downloading tzlocal-2.1-py2.py3-none-any.whl (16 kB)\n",
      "Requirement already satisfied: six>=1.5 in ./opt/anaconda3/lib/python3.7/site-packages (from python-dateutil->dateparser) (1.14.0)\n",
      "Installing collected packages: tzlocal, dateparser\n",
      "Successfully installed dateparser-1.0.0 tzlocal-2.1\n",
      "Note: you may need to restart the kernel to use updated packages.\n"
     ]
    }
   ],
   "source": [
    "pip install dateparser"
   ]
  },
  {
   "cell_type": "code",
   "execution_count": null,
   "metadata": {},
   "outputs": [],
   "source": []
  },
  {
   "cell_type": "code",
   "execution_count": null,
   "metadata": {},
   "outputs": [],
   "source": []
  },
  {
   "cell_type": "code",
   "execution_count": 82,
   "metadata": {},
   "outputs": [],
   "source": [
    "test_html = 'output/5635.html' \n",
    "with open(test_html, \"r\") as f:\n",
    "    test_html_contents = f.read()"
   ]
  },
  {
   "cell_type": "code",
   "execution_count": 83,
   "metadata": {},
   "outputs": [],
   "source": [
    "soup = BeautifulSoup(test_html_contents, 'html.parser')"
   ]
  },
  {
   "cell_type": "code",
   "execution_count": 84,
   "metadata": {},
   "outputs": [
    {
     "data": {
      "text/plain": [
       "str"
      ]
     },
     "execution_count": 84,
     "metadata": {},
     "output_type": "execute_result"
    }
   ],
   "source": [
    "title = soup.title.text\n",
    "type (title)"
   ]
  },
  {
   "cell_type": "code",
   "execution_count": 85,
   "metadata": {},
   "outputs": [
    {
     "ename": "NameError",
     "evalue": "name 'html_filterer' is not defined",
     "output_type": "error",
     "traceback": [
      "\u001b[0;31m---------------------------------------------------------------------------\u001b[0m",
      "\u001b[0;31mNameError\u001b[0m                                 Traceback (most recent call last)",
      "\u001b[0;32m<ipython-input-85-ad7abb507a36>\u001b[0m in \u001b[0;36m<module>\u001b[0;34m\u001b[0m\n\u001b[0;32m----> 1\u001b[0;31m \u001b[0mhtml_filterer\u001b[0m \u001b[0;34m(\u001b[0m\u001b[0mtest_html_contents\u001b[0m\u001b[0;34m)\u001b[0m\u001b[0;34m\u001b[0m\u001b[0;34m\u001b[0m\u001b[0m\n\u001b[0m",
      "\u001b[0;31mNameError\u001b[0m: name 'html_filterer' is not defined"
     ]
    }
   ],
   "source": [
    "html_filterer (test_html_contents)"
   ]
  },
  {
   "cell_type": "code",
   "execution_count": 86,
   "metadata": {},
   "outputs": [],
   "source": [
    "def write_to_txt (tr_date, transcript_text, filename,folder_for_txt):\n",
    "    newname = re.sub ('\\.html', '.txt', filename)\n",
    "    with open(pathjoin(folder_for_txt, newname), \"w\") as outfile:\n",
    "        outfile.write (tr_date + '\\n\\n' + transcript_text)"
   ]
  },
  {
   "cell_type": "code",
   "execution_count": 87,
   "metadata": {},
   "outputs": [],
   "source": [
    "def get_date(title_text):\n",
    "    #lemmatized = m.lemmatize().join()\n",
    "    parsed_date = re.search ('(\\d\\d?)\\s+([А-ЯЁа-яё]+)\\s+(19|2[012])\\d{2}', title_text)\n",
    "    return parsed_date.group(0)"
   ]
  },
  {
   "cell_type": "code",
   "execution_count": 88,
   "metadata": {},
   "outputs": [],
   "source": [
    "def html_parser (some_soup, title_text):\n",
    "    date = get_date (title_text)\n",
    "    #print (date)\n",
    "    transcript_text = some_soup.find(id=\"selectable-content\").text\n",
    "    #print (transcript_text.text[:150])\n",
    "    return date, transcript_text"
   ]
  },
  {
   "cell_type": "code",
   "execution_count": 89,
   "metadata": {},
   "outputs": [],
   "source": [
    "def open_file (path, filename):\n",
    "    with open(pathjoin(path, filename), \"r\") as f:\n",
    "        html_as_string = f.read()\n",
    "        return html_as_string"
   ]
  },
  {
   "cell_type": "code",
   "execution_count": 90,
   "metadata": {},
   "outputs": [],
   "source": [
    "def html_to_txt (path, filename, folder_for_txt):\n",
    "    html_as_string = open_file (path, filename)\n",
    "    soup = BeautifulSoup(html_as_string, 'html.parser')\n",
    "    title_text = soup.title.text\n",
    "    if re.search ('[Сс]тенограмма', title_text) != None:\n",
    "        tr_date, transcript_text = html_parser (soup, title_text)\n",
    "        write_to_txt (tr_date, transcript_text, filename,folder_for_txt)"
   ]
  },
  {
   "cell_type": "code",
   "execution_count": 91,
   "metadata": {},
   "outputs": [],
   "source": [
    "folder_with_htmls = 'output'\n",
    "folder_for_txt = 'txt_output'"
   ]
  },
  {
   "cell_type": "code",
   "execution_count": 92,
   "metadata": {},
   "outputs": [],
   "source": [
    "for path, dirs, filenames in walk (folder_with_htmls):\n",
    "    for filename in filenames:\n",
    "        if 'html' in filename:\n",
    "            html_to_txt (path, filename, folder_for_txt)"
   ]
  },
  {
   "cell_type": "code",
   "execution_count": null,
   "metadata": {},
   "outputs": [],
   "source": []
  },
  {
   "cell_type": "code",
   "execution_count": null,
   "metadata": {},
   "outputs": [],
   "source": []
  },
  {
   "cell_type": "code",
   "execution_count": null,
   "metadata": {},
   "outputs": [],
   "source": []
  },
  {
   "cell_type": "code",
   "execution_count": 100,
   "metadata": {},
   "outputs": [],
   "source": [
    "def get_date (file_kak_stroka):\n",
    "    date_string = file_kak_stroka.splitlines()[0]\n",
    "    parsed_date = dateparser.parse (date_string)\n",
    "    parsed_date_string = str(parsed_date)\n",
    "    parsed_date_no_time = re.sub (' 00:00:00','', parsed_date_string)\n",
    "    return (parsed_date_no_time)"
   ]
  },
  {
   "cell_type": "code",
   "execution_count": 101,
   "metadata": {},
   "outputs": [],
   "source": [
    "def write_file_with_date_name (datestring, file_kak_stroka, filename,put_nov_papka): \n",
    "    newname = datestring + '_' + filename\n",
    "    with open (pathjoin (put_nov_papka,newname), 'w') as outfile:\n",
    "        outfile.write (file_kak_stroka)"
   ]
  },
  {
   "cell_type": "code",
   "execution_count": 102,
   "metadata": {},
   "outputs": [],
   "source": [
    "def rename_files(put_k_faylam, put_nov_papka):\n",
    "    for path, dirs, filenames in walk (put_k_faylam):\n",
    "        #filenames.sort() ## чтобы открывались потом в хронологическом порядке, отсортируем по названию\n",
    "        for filename in filenames:\n",
    "            if filename.endswith('.txt'): ## бывают еще всякие плохо видимые служебные файлы\n",
    "                file_kak_file = open(pathjoin(path, filename), 'r')\n",
    "                file_kak_stroka = file_kak_file.read()\n",
    "                datestring = get_date (file_kak_stroka)\n",
    "                file_kak_file.close()\n",
    "                write_file_with_date_name (datestring, file_kak_stroka,filename,put_nov_papka)"
   ]
  },
  {
   "cell_type": "markdown",
   "metadata": {},
   "source": []
  },
  {
   "cell_type": "code",
   "execution_count": 98,
   "metadata": {},
   "outputs": [],
   "source": [
    "mkdir renamed_lemmatized_duma"
   ]
  },
  {
   "cell_type": "code",
   "execution_count": 103,
   "metadata": {},
   "outputs": [],
   "source": [
    "rename_files ('txt_output', 'renamed_lemmatized_duma')"
   ]
  },
  {
   "cell_type": "code",
   "execution_count": null,
   "metadata": {},
   "outputs": [],
   "source": []
  },
  {
   "cell_type": "code",
   "execution_count": 6,
   "metadata": {},
   "outputs": [],
   "source": [
    "# Компановка файлов по годам\n",
    "\n",
    "import os\n",
    "\n",
    "ls = [i for i in os.listdir() if i.endswith('.txt') and i.startswith('1994')]\n",
    "ls.sort()\n",
    "\n",
    "with open('1994.txt','w') as f:\n",
    "    for j in ls:\n",
    "        s = open(j).read()\n",
    "        f.write(s)\n",
    "        f.write('\\n')\n",
    "\n",
    "ls = [i for i in os.listdir() if i.endswith('.txt') and i.startswith('1995')]\n",
    "ls.sort()\n",
    "\n",
    "with open('1995.txt','w') as f:\n",
    "    for j in ls:\n",
    "        s = open(j).read()\n",
    "        f.write(s)\n",
    "        f.write('\\n')\n",
    "\n",
    "ls = [i for i in os.listdir() if i.endswith('.txt') and i.startswith('1996')]\n",
    "ls.sort()\n",
    "\n",
    "with open('1996.txt','w') as f:\n",
    "    for j in ls:\n",
    "        s = open(j).read()\n",
    "        f.write(s)\n",
    "        f.write('\\n')\n",
    "\n",
    "ls = [i for i in os.listdir() if i.endswith('.txt') and i.startswith('1997')]\n",
    "ls.sort()\n",
    "\n",
    "with open('1997.txt','w') as f:\n",
    "    for j in ls:\n",
    "        s = open(j).read()\n",
    "        f.write(s)\n",
    "        f.write('\\n')\n",
    "\n",
    "ls = [i for i in os.listdir() if i.endswith('.txt') and i.startswith('1998')]\n",
    "ls.sort()\n",
    "\n",
    "with open('1998.txt','w') as f:\n",
    "    for j in ls:\n",
    "        s = open(j).read()\n",
    "        f.write(s)\n",
    "        f.write('\\n')\n",
    "\n",
    "ls = [i for i in os.listdir() if i.endswith('.txt') and i.startswith('1999')]\n",
    "ls.sort()\n",
    "\n",
    "with open('1999.txt','w') as f:\n",
    "    for j in ls:\n",
    "        s = open(j).read()\n",
    "        f.write(s)\n",
    "        f.write('\\n')\n",
    "\n",
    "ls = [i for i in os.listdir() if i.endswith('.txt') and i.startswith('2000')]\n",
    "ls.sort()\n",
    "\n",
    "with open('2000.txt','w') as f:\n",
    "    for j in ls:\n",
    "        s = open(j).read()\n",
    "        f.write(s)\n",
    "        f.write('\\n')\n",
    "\n",
    "ls = [i for i in os.listdir() if i.endswith('.txt') and i.startswith('2001')]\n",
    "ls.sort()\n",
    "\n",
    "with open('2001.txt','w') as f:\n",
    "    for j in ls:\n",
    "        s = open(j).read()\n",
    "        f.write(s)\n",
    "        f.write('\\n')\n",
    "\n",
    "ls = [i for i in os.listdir() if i.endswith('.txt') and i.startswith('2002')]\n",
    "ls.sort()\n",
    "\n",
    "with open('2002.txt','w') as f:\n",
    "    for j in ls:\n",
    "        s = open(j).read()\n",
    "        f.write(s)\n",
    "        f.write('\\n')\n",
    "\n",
    "ls = [i for i in os.listdir() if i.endswith('.txt') and i.startswith('2003')]\n",
    "ls.sort()\n",
    "\n",
    "with open('2003.txt','w') as f:\n",
    "    for j in ls:\n",
    "        s = open(j).read()\n",
    "        f.write(s)\n",
    "        f.write('\\n')\n",
    "\n",
    "ls = [i for i in os.listdir() if i.endswith('.txt') and i.startswith('2004')]\n",
    "ls.sort()\n",
    "\n",
    "with open('2004.txt','w') as f:\n",
    "    for j in ls:\n",
    "        s = open(j).read()\n",
    "        f.write(s)\n",
    "        f.write('\\n')\n",
    "\n",
    "ls = [i for i in os.listdir() if i.endswith('.txt') and i.startswith('2005')]\n",
    "ls.sort()\n",
    "\n",
    "with open('2005.txt','w') as f:\n",
    "    for j in ls:\n",
    "        s = open(j).read()\n",
    "        f.write(s)\n",
    "        f.write('\\n')\n",
    "\n",
    "ls = [i for i in os.listdir() if i.endswith('.txt') and i.startswith('2006')]\n",
    "ls.sort()\n",
    "\n",
    "with open('2006.txt','w') as f:\n",
    "    for j in ls:\n",
    "        s = open(j).read()\n",
    "        f.write(s)\n",
    "        f.write('\\n')\n",
    "\n",
    "ls = [i for i in os.listdir() if i.endswith('.txt') and i.startswith('2007')]\n",
    "ls.sort()\n",
    "\n",
    "with open('2007.txt','w') as f:\n",
    "    for j in ls:\n",
    "        s = open(j).read()\n",
    "        f.write(s)\n",
    "        f.write('\\n')\n",
    "\n",
    "ls = [i for i in os.listdir() if i.endswith('.txt') and i.startswith('2008')]\n",
    "ls.sort()\n",
    "\n",
    "with open('2008.txt','w') as f:\n",
    "    for j in ls:\n",
    "        s = open(j).read()\n",
    "        f.write(s)\n",
    "        f.write('\\n')\n",
    "\n",
    "ls = [i for i in os.listdir() if i.endswith('.txt') and i.startswith('2009')]\n",
    "ls.sort()\n",
    "\n",
    "with open('2009.txt','w') as f:\n",
    "    for j in ls:\n",
    "        s = open(j).read()\n",
    "        f.write(s)\n",
    "        f.write('\\n')\n",
    "\n",
    "ls = [i for i in os.listdir() if i.endswith('.txt') and i.startswith('2010')]\n",
    "ls.sort()\n",
    "\n",
    "with open('2010.txt','w') as f:\n",
    "    for j in ls:\n",
    "        s = open(j).read()\n",
    "        f.write(s)\n",
    "        f.write('\\n')\n",
    "\n",
    "ls = [i for i in os.listdir() if i.endswith('.txt') and i.startswith('2011')]\n",
    "ls.sort()\n",
    "\n",
    "with open('2011.txt','w') as f:\n",
    "    for j in ls:\n",
    "        s = open(j).read()\n",
    "        f.write(s)\n",
    "        f.write('\\n')\n",
    "\n",
    "ls = [i for i in os.listdir() if i.endswith('.txt') and i.startswith('2012')]\n",
    "ls.sort()\n",
    "\n",
    "with open('2012.txt','w') as f:\n",
    "    for j in ls:\n",
    "        s = open(j).read()\n",
    "        f.write(s)\n",
    "        f.write('\\n')\n",
    "\n",
    "ls = [i for i in os.listdir() if i.endswith('.txt') and i.startswith('2013')]\n",
    "ls.sort()\n",
    "\n",
    "with open('2013.txt','w') as f:\n",
    "    for j in ls:\n",
    "        s = open(j).read()\n",
    "        f.write(s)\n",
    "        f.write('\\n')\n",
    "\n",
    "ls = [i for i in os.listdir() if i.endswith('.txt') and i.startswith('2014')]\n",
    "ls.sort()\n",
    "\n",
    "with open('2014.txt','w') as f:\n",
    "    for j in ls:\n",
    "        s = open(j).read()\n",
    "        f.write(s)\n",
    "        f.write('\\n')\n",
    "\n",
    "ls = [i for i in os.listdir() if i.endswith('.txt') and i.startswith('2015')]\n",
    "ls.sort()\n",
    "\n",
    "with open('2015.txt','w') as f:\n",
    "    for j in ls:\n",
    "        s = open(j).read()\n",
    "        f.write(s)\n",
    "        f.write('\\n')\n",
    "\n",
    "ls = [i for i in os.listdir() if i.endswith('.txt') and i.startswith('2016')]\n",
    "ls.sort()\n",
    "\n",
    "with open('2016.txt','w') as f:\n",
    "    for j in ls:\n",
    "        s = open(j).read()\n",
    "        f.write(s)\n",
    "        f.write('\\n')\n",
    "\n",
    "ls = [i for i in os.listdir() if i.endswith('.txt') and i.startswith('2017')]\n",
    "ls.sort()\n",
    "\n",
    "with open('2017.txt','w') as f:\n",
    "    for j in ls:\n",
    "        s = open(j).read()\n",
    "        f.write(s)\n",
    "        f.write('\\n')\n",
    "\n",
    "ls = [i for i in os.listdir() if i.endswith('.txt') and i.startswith('2018')]\n",
    "ls.sort()\n",
    "\n",
    "with open('2018.txt','w') as f:\n",
    "    for j in ls:\n",
    "        s = open(j).read()\n",
    "        f.write(s)\n",
    "        f.write('\\n')\n",
    "\n",
    "ls = [i for i in os.listdir() if i.endswith('.txt') and i.startswith('2019')]\n",
    "ls.sort()\n",
    "\n",
    "with open('2019.txt','w') as f:\n",
    "    for j in ls:\n",
    "        s = open(j).read()\n",
    "        f.write(s)\n",
    "        f.write('\\n')\n",
    "\n",
    "ls = [i for i in os.listdir() if i.endswith('.txt') and i.startswith('2020')]\n",
    "ls.sort()\n",
    "\n",
    "with open('2020.txt','w') as f:\n",
    "    for j in ls:\n",
    "        s = open(j).read()\n",
    "        f.write(s)\n",
    "        f.write('\\n')\n",
    "\n",
    "ls = [i for i in os.listdir() if i.endswith('.txt') and i.startswith('2021')]\n",
    "ls.sort()\n",
    "\n",
    "with open('2021.txt','w') as f:\n",
    "    for j in ls:\n",
    "        s = open(j).read()\n",
    "        f.write(s)\n",
    "        f.write('\\n')"
   ]
  },
  {
   "cell_type": "code",
   "execution_count": null,
   "metadata": {},
   "outputs": [],
   "source": []
  },
  {
   "cell_type": "code",
   "execution_count": null,
   "metadata": {},
   "outputs": [],
   "source": []
  }
 ],
 "metadata": {
  "kernelspec": {
   "display_name": "Python 3 (ipykernel)",
   "language": "python",
   "name": "python3"
  },
  "language_info": {
   "codemirror_mode": {
    "name": "ipython",
    "version": 3
   },
   "file_extension": ".py",
   "mimetype": "text/x-python",
   "name": "python",
   "nbconvert_exporter": "python",
   "pygments_lexer": "ipython3",
   "version": "3.9.7"
  }
 },
 "nbformat": 4,
 "nbformat_minor": 4
}
