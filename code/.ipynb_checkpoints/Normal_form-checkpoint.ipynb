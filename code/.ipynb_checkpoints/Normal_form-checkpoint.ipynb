{
 "cells": [
  {
   "cell_type": "code",
   "execution_count": 5,
   "metadata": {},
   "outputs": [
    {
     "ename": "ModuleNotFoundError",
     "evalue": "No module named 'pymorphy2'",
     "output_type": "error",
     "traceback": [
      "\u001b[0;31m---------------------------------------------------------------------------\u001b[0m",
      "\u001b[0;31mModuleNotFoundError\u001b[0m                       Traceback (most recent call last)",
      "\u001b[0;32m/var/folders/56/yw0nw4q15bzf2bfcm7wgd74w0000gn/T/ipykernel_9933/4146327198.py\u001b[0m in \u001b[0;36m<module>\u001b[0;34m\u001b[0m\n\u001b[0;32m----> 1\u001b[0;31m \u001b[0;32mimport\u001b[0m \u001b[0mpymorphy2\u001b[0m\u001b[0;34m\u001b[0m\u001b[0;34m\u001b[0m\u001b[0m\n\u001b[0m\u001b[1;32m      2\u001b[0m \u001b[0mmorph\u001b[0m \u001b[0;34m=\u001b[0m \u001b[0mpymorphy2\u001b[0m\u001b[0;34m.\u001b[0m\u001b[0mMorphAnalyzer\u001b[0m\u001b[0;34m(\u001b[0m\u001b[0;34m)\u001b[0m\u001b[0;34m\u001b[0m\u001b[0;34m\u001b[0m\u001b[0m\n",
      "\u001b[0;31mModuleNotFoundError\u001b[0m: No module named 'pymorphy2'"
     ]
    }
   ],
   "source": [
    "import pymorphy2\n",
    "morph = pymorphy2.MorphAnalyzer()"
   ]
  },
  {
   "cell_type": "code",
   "execution_count": 4,
   "metadata": {},
   "outputs": [
    {
     "ename": "SyntaxError",
     "evalue": "invalid syntax (1315295908.py, line 1)",
     "output_type": "error",
     "traceback": [
      "\u001b[0;36m  File \u001b[0;32m\"/var/folders/56/yw0nw4q15bzf2bfcm7wgd74w0000gn/T/ipykernel_9933/1315295908.py\"\u001b[0;36m, line \u001b[0;32m1\u001b[0m\n\u001b[0;31m    install pymorphy2\u001b[0m\n\u001b[0m            ^\u001b[0m\n\u001b[0;31mSyntaxError\u001b[0m\u001b[0;31m:\u001b[0m invalid syntax\n"
     ]
    }
   ],
   "source": [
    "install pymorphy2"
   ]
  },
  {
   "cell_type": "code",
   "execution_count": 2,
   "metadata": {},
   "outputs": [
    {
     "data": {
      "text/plain": [
       "'/Users/romanchepenko/Desktop/diplom/duma_analysis/code'"
      ]
     },
     "execution_count": 2,
     "metadata": {},
     "output_type": "execute_result"
    }
   ],
   "source": [
    "pwd"
   ]
  },
  {
   "cell_type": "code",
   "execution_count": 2,
   "metadata": {},
   "outputs": [
    {
     "name": "stdout",
     "output_type": "stream",
     "text": [
      "!\"#$%&'()*+,-./:;<=>?@[\\]^_`{|}~\n"
     ]
    }
   ],
   "source": [
    "import string\n",
    "print(string.punctuation)"
   ]
  },
  {
   "cell_type": "code",
   "execution_count": 257,
   "metadata": {},
   "outputs": [],
   "source": [
    "f = open('/Users/user/duma_years/2021.txt', \"r\")\n",
    "text = f.read()"
   ]
  },
  {
   "cell_type": "code",
   "execution_count": 258,
   "metadata": {},
   "outputs": [],
   "source": [
    "text = text.lower()"
   ]
  },
  {
   "cell_type": "code",
   "execution_count": 259,
   "metadata": {},
   "outputs": [],
   "source": [
    "spec_chars = string.punctuation + '\\n\\xa0«»\\t—…' "
   ]
  },
  {
   "cell_type": "code",
   "execution_count": 260,
   "metadata": {},
   "outputs": [],
   "source": [
    "def remove_chars_from_text(text, chars):\n",
    "    return \"\".join([ch for ch in text if ch not in chars])"
   ]
  },
  {
   "cell_type": "code",
   "execution_count": 261,
   "metadata": {},
   "outputs": [],
   "source": [
    "text = remove_chars_from_text(text, spec_chars)\n",
    "text = remove_chars_from_text(text, string.digits)"
   ]
  },
  {
   "cell_type": "code",
   "execution_count": 262,
   "metadata": {},
   "outputs": [
    {
     "data": {
      "text/plain": [
       "' января здание государственной думы большой зал   января  года  часов председательствует председатель государственной думы в в володинпредседательствующий добрый день уважаемые коллеги приступаем к работе просьба зарегистрироватьсяпожалуйста включите режим регистрацииколлеги идёт регистрацияпокажите'"
      ]
     },
     "execution_count": 262,
     "metadata": {},
     "output_type": "execute_result"
    }
   ],
   "source": [
    "text[:300]"
   ]
  },
  {
   "cell_type": "code",
   "execution_count": 263,
   "metadata": {},
   "outputs": [
    {
     "name": "stdout",
     "output_type": "stream",
     "text": [
      "<class 'str'>\n"
     ]
    }
   ],
   "source": [
    "print(type(text))"
   ]
  },
  {
   "cell_type": "code",
   "execution_count": 264,
   "metadata": {
    "scrolled": true
   },
   "outputs": [
    {
     "data": {
      "text/plain": [
       "['января',\n",
       " 'здание',\n",
       " 'государственной',\n",
       " 'думы',\n",
       " 'большой',\n",
       " 'зал',\n",
       " 'января',\n",
       " 'года',\n",
       " 'часов',\n",
       " 'председательствует',\n",
       " 'председатель',\n",
       " 'государственной',\n",
       " 'думы',\n",
       " 'в',\n",
       " 'в',\n",
       " 'володинпредседательствующий',\n",
       " 'добрый',\n",
       " 'день',\n",
       " 'уважаемые',\n",
       " 'коллеги',\n",
       " 'приступаем',\n",
       " 'к',\n",
       " 'работе',\n",
       " 'просьба',\n",
       " 'зарегистрироватьсяпожалуйста',\n",
       " 'включите',\n",
       " 'режим',\n",
       " 'регистрацииколлеги',\n",
       " 'идёт',\n",
       " 'регистрацияпокажите',\n",
       " 'пожалуйста',\n",
       " 'результатырезультаты',\n",
       " 'регистрации',\n",
       " 'час',\n",
       " 'мин',\n",
       " 'секприсутствует',\n",
       " 'чел',\n",
       " 'отсутствует',\n",
       " 'чел',\n",
       " 'всего',\n",
       " 'депутатов',\n",
       " 'челне',\n",
       " 'зарегистрировано',\n",
       " 'чел',\n",
       " 'результат',\n",
       " 'кворум',\n",
       " 'естьв',\n",
       " 'зале',\n",
       " 'присутствует',\n",
       " 'депутата',\n",
       " 'кворум',\n",
       " 'естьпожалуйста',\n",
       " 'ольга',\n",
       " 'викторовна',\n",
       " 'савастьяновасавастьянова',\n",
       " 'о',\n",
       " 'в',\n",
       " 'председатель',\n",
       " 'комитета',\n",
       " 'государственной',\n",
       " 'думы',\n",
       " 'по',\n",
       " 'контролю',\n",
       " 'и',\n",
       " 'регламенту',\n",
       " 'фракция',\n",
       " 'единая',\n",
       " 'россия',\n",
       " 'уважаемый',\n",
       " 'вячеслав',\n",
       " 'викторович',\n",
       " 'уважаемые',\n",
       " 'коллеги',\n",
       " 'данные',\n",
       " 'комитета',\n",
       " 'совпадают',\n",
       " 'с',\n",
       " 'данными',\n",
       " 'на',\n",
       " 'экране',\n",
       " 'действительно',\n",
       " 'депутатов',\n",
       " 'включая',\n",
       " 'сложивших',\n",
       " 'мандаты',\n",
       " 'отсутствует',\n",
       " 'по',\n",
       " 'уважительной',\n",
       " 'причине',\n",
       " 'присутствуетпредседательствующий',\n",
       " 'спасибоуважаемые',\n",
       " 'коллеги',\n",
       " 'давайте',\n",
       " 'поприветствуем',\n",
       " 'журналистов',\n",
       " 'они',\n",
       " 'впервые',\n",
       " 'появились',\n",
       " 'у',\n",
       " 'нас']"
      ]
     },
     "execution_count": 264,
     "metadata": {},
     "output_type": "execute_result"
    }
   ],
   "source": [
    "text_split = (text.rsplit())\n",
    "text_split [:100]"
   ]
  },
  {
   "cell_type": "code",
   "execution_count": 265,
   "metadata": {},
   "outputs": [],
   "source": [
    "with open(\"2021_norm.txt\", \"w\") as file:\n",
    "    for word in text_split:\n",
    "        p = morph.parse(word)[0]\n",
    "        file.write(p.normal_form + \" \" )"
   ]
  },
  {
   "cell_type": "code",
   "execution_count": null,
   "metadata": {},
   "outputs": [],
   "source": []
  }
 ],
 "metadata": {
  "kernelspec": {
   "display_name": "Python 3 (ipykernel)",
   "language": "python",
   "name": "python3"
  },
  "language_info": {
   "codemirror_mode": {
    "name": "ipython",
    "version": 3
   },
   "file_extension": ".py",
   "mimetype": "text/x-python",
   "name": "python",
   "nbconvert_exporter": "python",
   "pygments_lexer": "ipython3",
   "version": "3.9.7"
  }
 },
 "nbformat": 4,
 "nbformat_minor": 4
}
