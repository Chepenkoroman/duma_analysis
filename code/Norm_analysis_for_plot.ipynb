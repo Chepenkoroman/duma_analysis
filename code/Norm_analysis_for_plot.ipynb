{
 "cells": [
  {
   "cell_type": "code",
   "execution_count": 24,
   "metadata": {
    "id": "yTrkIAEZcFt4"
   },
   "outputs": [],
   "source": [
    "f = open('/Users/romanchepenko/Desktop/diplom/duma_analysis/data/duma_norm/2022_norm.txt', \"r\")\n",
    "text = f.read()"
   ]
  },
  {
   "cell_type": "code",
   "execution_count": 25,
   "metadata": {
    "colab": {
     "base_uri": "https://localhost:8080/"
    },
    "id": "KorRCnAscb7V",
    "outputId": "8b8bce07-4e5c-441e-f09e-86e54bffcaff"
   },
   "outputs": [
    {
     "data": {
      "text/plain": [
       "str"
      ]
     },
     "execution_count": 25,
     "metadata": {},
     "output_type": "execute_result"
    }
   ],
   "source": [
    "type(text)"
   ]
  },
  {
   "cell_type": "code",
   "execution_count": 26,
   "metadata": {},
   "outputs": [
    {
     "data": {
      "text/plain": [
       "'/Users/romanchepenko/Desktop/diplom/duma_analysis/code'"
      ]
     },
     "execution_count": 26,
     "metadata": {},
     "output_type": "execute_result"
    }
   ],
   "source": [
    "pwd"
   ]
  },
  {
   "cell_type": "code",
   "execution_count": 27,
   "metadata": {
    "id": "I-N5AiBGywvZ"
   },
   "outputs": [
    {
     "data": {
      "text/plain": [
       "'январь здание государственный дума большой зал январь год час председательствовать председатель госу'"
      ]
     },
     "execution_count": 27,
     "metadata": {},
     "output_type": "execute_result"
    }
   ],
   "source": [
    "text[:100]"
   ]
  },
  {
   "cell_type": "code",
   "execution_count": 7,
   "metadata": {
    "colab": {
     "base_uri": "https://localhost:8080/"
    },
    "id": "d-R4h6aKdHDs",
    "outputId": "61f6eb97-3220-4d1e-a89f-2970c6fc29cd"
   },
   "outputs": [
    {
     "name": "stdout",
     "output_type": "stream",
     "text": [
      "Requirement already satisfied: nltk in /Users/romanchepenko/opt/anaconda3/lib/python3.9/site-packages (3.6.5)\n",
      "Requirement already satisfied: click in /Users/romanchepenko/opt/anaconda3/lib/python3.9/site-packages (from nltk) (8.0.3)\n",
      "Requirement already satisfied: joblib in /Users/romanchepenko/opt/anaconda3/lib/python3.9/site-packages (from nltk) (1.1.0)\n",
      "Requirement already satisfied: regex>=2021.8.3 in /Users/romanchepenko/opt/anaconda3/lib/python3.9/site-packages (from nltk) (2021.8.3)\n",
      "Requirement already satisfied: tqdm in /Users/romanchepenko/opt/anaconda3/lib/python3.9/site-packages (from nltk) (4.62.3)\n",
      "Note: you may need to restart the kernel to use updated packages.\n"
     ]
    }
   ],
   "source": [
    "pip install nltk"
   ]
  },
  {
   "cell_type": "code",
   "execution_count": 8,
   "metadata": {
    "colab": {
     "base_uri": "https://localhost:8080/"
    },
    "id": "_3tfmH_7dMJ6",
    "outputId": "f66a6b56-f6df-4ef9-de86-7400df9df3a3"
   },
   "outputs": [
    {
     "name": "stderr",
     "output_type": "stream",
     "text": [
      "[nltk_data] Downloading package punkt to\n",
      "[nltk_data]     /Users/romanchepenko/nltk_data...\n",
      "[nltk_data]   Unzipping tokenizers/punkt.zip.\n"
     ]
    },
    {
     "data": {
      "text/plain": [
       "True"
      ]
     },
     "execution_count": 8,
     "metadata": {},
     "output_type": "execute_result"
    }
   ],
   "source": [
    "import nltk\n",
    "nltk.download('punkt')"
   ]
  },
  {
   "cell_type": "code",
   "execution_count": 9,
   "metadata": {
    "id": "jn5X4Qxicdt7"
   },
   "outputs": [],
   "source": [
    "from nltk import word_tokenize\n"
   ]
  },
  {
   "cell_type": "code",
   "execution_count": 28,
   "metadata": {
    "id": "-9qLiB4-zMr4"
   },
   "outputs": [],
   "source": [
    "text_tokens = word_tokenize(text)"
   ]
  },
  {
   "cell_type": "code",
   "execution_count": 29,
   "metadata": {
    "colab": {
     "base_uri": "https://localhost:8080/"
    },
    "id": "XYwakvYEcipI",
    "outputId": "17feda36-da9a-4a18-bc3b-5434ba86e55c"
   },
   "outputs": [
    {
     "name": "stdout",
     "output_type": "stream",
     "text": [
      "<class 'list'> 592197\n"
     ]
    },
    {
     "data": {
      "text/plain": [
       "['январь', 'здание', 'государственный', 'дума', 'большой']"
      ]
     },
     "execution_count": 29,
     "metadata": {},
     "output_type": "execute_result"
    }
   ],
   "source": [
    "print(type(text_tokens), len(text_tokens))\n",
    "text_tokens[:5]"
   ]
  },
  {
   "cell_type": "code",
   "execution_count": 30,
   "metadata": {
    "colab": {
     "base_uri": "https://localhost:8080/"
    },
    "id": "ufsa5y_Bck_t",
    "outputId": "f497de40-6607-4910-c677-79fc43c4acea"
   },
   "outputs": [
    {
     "name": "stdout",
     "output_type": "stream",
     "text": [
      "<class 'nltk.text.Text'>\n"
     ]
    },
    {
     "data": {
      "text/plain": [
       "['январь', 'здание', 'государственный', 'дума', 'большой']"
      ]
     },
     "execution_count": 30,
     "metadata": {},
     "output_type": "execute_result"
    }
   ],
   "source": [
    "\n",
    "text = nltk.Text(text_tokens)\n",
    "print(type(text))\n",
    "text[:5]"
   ]
  },
  {
   "cell_type": "code",
   "execution_count": null,
   "metadata": {
    "id": "wsa4nqdvcu2Y"
   },
   "outputs": [],
   "source": []
  },
  {
   "cell_type": "markdown",
   "metadata": {
    "id": "v9Hw1d1vcvN_"
   },
   "source": [
    "Расчет частотности"
   ]
  },
  {
   "cell_type": "code",
   "execution_count": 13,
   "metadata": {
    "colab": {
     "base_uri": "https://localhost:8080/"
    },
    "id": "JH9mNRMUczOQ",
    "outputId": "46f76925-7a5a-4f49-fec8-74bdf941cce5"
   },
   "outputs": [
    {
     "name": "stdout",
     "output_type": "stream",
     "text": [
      "CPU times: user 23 µs, sys: 1 µs, total: 24 µs\n",
      "Wall time: 38.1 µs\n"
     ]
    }
   ],
   "source": [
    "%%time\n",
    "from nltk.probability import FreqDist\n"
   ]
  },
  {
   "cell_type": "code",
   "execution_count": 31,
   "metadata": {
    "id": "_O9ggLqix_zV"
   },
   "outputs": [],
   "source": [
    "fdist = FreqDist(text)\n"
   ]
  },
  {
   "cell_type": "code",
   "execution_count": 32,
   "metadata": {
    "id": "XcyTP1Vwa9SB"
   },
   "outputs": [],
   "source": [
    "import re"
   ]
  },
  {
   "cell_type": "markdown",
   "metadata": {
    "id": "I45-YMCdKM9K"
   },
   "source": [
    "Расчет частотности определенных слов:\n",
    "1. Мы (пока уберем)\n",
    "2. Наш\n",
    "3. Ваш\n",
    "4. Их\n",
    "5. Россия\n",
    "6. Президент\n",
    "7. Власть\n",
    "8. Государство\n",
    "9. Мир\n",
    "10. Война\n",
    "11. Народ\n",
    "12. Конституция\n",
    "13. Советский\n",
    "14. Союз\n",
    "15. Пенсия ?\n",
    "16. Образование ?\n",
    "17. Наука\n",
    "18. Свобода\n",
    "19. Язык ?\n",
    "20. Коррупция\n",
    "21. Крым\n",
    "22. Русский\n",
    "23. Мировой\n",
    "24. Иностранный \n",
    "25. Восточный\n",
    "26. Западный\n",
    "27. Запад\n",
    "28. Европа\n",
    "29. Украина\n",
    "30. США\n",
    "31. Америка"
   ]
  },
  {
   "cell_type": "code",
   "execution_count": 16,
   "metadata": {
    "colab": {
     "base_uri": "https://localhost:8080/",
     "height": 42
    },
    "id": "kQHGJTvXMcJ1",
    "outputId": "e69a0315-ce42-410c-820b-bb179ffdc91f"
   },
   "outputs": [
    {
     "data": {
      "text/plain": [
       "'1.3.4'"
      ]
     },
     "execution_count": 16,
     "metadata": {},
     "output_type": "execute_result"
    }
   ],
   "source": [
    "# Балуемся с pandas\n",
    "#import re # ну регулярки нам всегда нужны\n",
    "import pandas as pd # пандас традиционно импортируют с алиасом pd, будем придерживаться\n",
    "pd.__version__"
   ]
  },
  {
   "cell_type": "code",
   "execution_count": 33,
   "metadata": {
    "id": "uyRazZoWyWup"
   },
   "outputs": [],
   "source": [
    "word_name.clear()\n",
    "word_count.clear()\n",
    "word_freq.clear()"
   ]
  },
  {
   "cell_type": "code",
   "execution_count": 34,
   "metadata": {
    "colab": {
     "base_uri": "https://localhost:8080/"
    },
    "id": "MlObWCJ0TQII",
    "outputId": "8ab81725-4d19-461d-c17f-0328ca4cd715"
   },
   "outputs": [
    {
     "name": "stdout",
     "output_type": "stream",
     "text": [
      "Общее количество слов 592197\n"
     ]
    }
   ],
   "source": [
    "# Test\n",
    "\n",
    "print(\"Общее количество слов\", fdist.N())\n",
    "\n",
    "word_name = []\n",
    "word_count = []\n",
    "word_freq = []\n",
    "\n",
    "#for w in fdist:\n",
    "#    if re.search('^мы$', w):\n",
    "#        word_name.append(w)\n",
    "#        word_count.append(fdist[w])\n",
    "#        word_freq.append(fdist.freq(w))\n",
    "for w in fdist:\n",
    "    if re.search('^наш$', w):\n",
    "        word_name.append(w)\n",
    "        word_count.append(fdist[w])\n",
    "        word_freq.append(fdist.freq(w))\n",
    "for w in fdist:\n",
    "    if re.search('^их$', w):\n",
    "        word_name.append(w)\n",
    "        word_count.append(fdist[w])\n",
    "        word_freq.append(fdist.freq(w))\n",
    "for w in fdist:\n",
    "    if re.search('^россия$', w):\n",
    "        word_name.append(w)\n",
    "        word_count.append(fdist[w])\n",
    "        word_freq.append(fdist.freq(w))\n",
    "for w in fdist:\n",
    "    if re.search('^президент$', w):\n",
    "        word_name.append(w)\n",
    "        word_count.append(fdist[w])\n",
    "        word_freq.append(fdist.freq(w))\n",
    "for w in fdist:\n",
    "    if re.search('^власть$', w):\n",
    "        word_name.append(w)\n",
    "        word_count.append(fdist[w])\n",
    "        word_freq.append(fdist.freq(w))\n",
    "for w in fdist:\n",
    "    if re.search('^государство$', w):\n",
    "        word_name.append(w)\n",
    "        word_count.append(fdist[w])\n",
    "        word_freq.append(fdist.freq(w))\n",
    "for w in fdist:\n",
    "    if re.search('^мир$', w):\n",
    "        word_name.append(w)\n",
    "        word_count.append(fdist[w])\n",
    "        word_freq.append(fdist.freq(w))\n",
    "for w in fdist:\n",
    "    if re.search('^война$', w):\n",
    "        word_name.append(w)\n",
    "        word_count.append(fdist[w])\n",
    "        word_freq.append(fdist.freq(w))\n",
    "for w in fdist:\n",
    "    if re.search('^народ$', w):\n",
    "        word_name.append(w)\n",
    "        word_count.append(fdist[w])\n",
    "        word_freq.append(fdist.freq(w))\n",
    "for w in fdist:\n",
    "    if re.search('^конституция$', w):\n",
    "        word_name.append(w)\n",
    "        word_count.append(fdist[w])\n",
    "        word_freq.append(fdist.freq(w))\n",
    "for w in fdist:\n",
    "    if re.search('^советский$', w):\n",
    "        word_name.append(w)\n",
    "        word_count.append(fdist[w])\n",
    "        word_freq.append(fdist.freq(w))\n",
    "for w in fdist:\n",
    "    if re.search('^союз$', w):\n",
    "        word_name.append(w)\n",
    "        word_count.append(fdist[w])\n",
    "        word_freq.append(fdist.freq(w))\n",
    "for w in fdist:\n",
    "    if re.search('^пенсия$', w):\n",
    "        word_name.append(w)\n",
    "        word_count.append(fdist[w])\n",
    "        word_freq.append(fdist.freq(w))\n",
    "for w in fdist:\n",
    "    if re.search('^образование$', w):\n",
    "        word_name.append(w)\n",
    "        word_count.append(fdist[w])\n",
    "        word_freq.append(fdist.freq(w))\n",
    "for w in fdist:\n",
    "    if re.search('^наука$', w):\n",
    "        word_name.append(w)\n",
    "        word_count.append(fdist[w])\n",
    "        word_freq.append(fdist.freq(w))\n",
    "for w in fdist:\n",
    "    if re.search('^свобода$', w):\n",
    "        word_name.append(w)\n",
    "        word_count.append(fdist[w])\n",
    "        word_freq.append(fdist.freq(w))\n",
    "for w in fdist:\n",
    "    if re.search('^язык$', w):\n",
    "        word_name.append(w)\n",
    "        word_count.append(fdist[w])\n",
    "        word_freq.append(fdist.freq(w))\n",
    "for w in fdist:\n",
    "    if re.search('^коррупция$', w):\n",
    "        word_name.append(w)\n",
    "        word_count.append(fdist[w])\n",
    "        word_freq.append(fdist.freq(w))\n",
    "for w in fdist:\n",
    "    if re.search('^крым$', w):\n",
    "        word_name.append(w)\n",
    "        word_count.append(fdist[w])\n",
    "        word_freq.append(fdist.freq(w))\n",
    "for w in fdist:\n",
    "    if re.search('^русский$', w):\n",
    "        word_name.append(w)\n",
    "        word_count.append(fdist[w])\n",
    "        word_freq.append(fdist.freq(w))\n",
    "for w in fdist:\n",
    "    if re.search('^мировой$', w):\n",
    "        word_name.append(w)\n",
    "        word_count.append(fdist[w])\n",
    "        word_freq.append(fdist.freq(w))\n",
    "for w in fdist:\n",
    "    if re.search('^иностранный$', w):\n",
    "        word_name.append(w)\n",
    "        word_count.append(fdist[w])\n",
    "        word_freq.append(fdist.freq(w))\n",
    "for w in fdist:\n",
    "    if re.search('^восточный$', w):\n",
    "        word_name.append(w)\n",
    "        word_count.append(fdist[w])\n",
    "        word_freq.append(fdist.freq(w))\n",
    "for w in fdist:\n",
    "    if re.search('^западный$', w):\n",
    "        word_name.append(w)\n",
    "        word_count.append(fdist[w])\n",
    "        word_freq.append(fdist.freq(w))\n",
    "for w in fdist:\n",
    "    if re.search('^запад$', w):\n",
    "        word_name.append(w)\n",
    "        word_count.append(fdist[w])\n",
    "        word_freq.append(fdist.freq(w))\n",
    "for w in fdist:\n",
    "    if re.search('^европа$', w):\n",
    "        word_name.append(w)\n",
    "        word_count.append(fdist[w])\n",
    "        word_freq.append(fdist.freq(w))\n",
    "for w in fdist:\n",
    "    if re.search('^украина$', w):\n",
    "        word_name.append(w)\n",
    "        word_count.append(fdist[w])\n",
    "        word_freq.append(fdist.freq(w))\n",
    "for w in fdist:\n",
    "    if re.search('^сша$', w):\n",
    "        word_name.append(w)\n",
    "        word_count.append(fdist[w])\n",
    "        word_freq.append(fdist.freq(w))\n",
    "for w in fdist:\n",
    "    if re.search('^америка$', w):\n",
    "        word_name.append(w)\n",
    "        word_count.append(fdist[w])\n",
    "        word_freq.append(fdist.freq(w))"
   ]
  },
  {
   "cell_type": "code",
   "execution_count": 35,
   "metadata": {
    "id": "WYAQycheRhKy"
   },
   "outputs": [],
   "source": [
    "w_name = pd.Series(word_name)\n",
    "w_count = pd.Series(word_count)\n",
    "w_freq = pd.Series(word_freq)"
   ]
  },
  {
   "cell_type": "code",
   "execution_count": 36,
   "metadata": {
    "id": "AoEwEzhNVwRV"
   },
   "outputs": [],
   "source": [
    "w_data = pd.DataFrame({ 'Слово': w_name, 'Количество': w_count, 'Частотность': word_freq })\n"
   ]
  },
  {
   "cell_type": "code",
   "execution_count": null,
   "metadata": {
    "id": "zL94ABtv8tcD"
   },
   "outputs": [],
   "source": []
  },
  {
   "cell_type": "code",
   "execution_count": null,
   "metadata": {
    "id": "7mCEPRih9Vud"
   },
   "outputs": [],
   "source": []
  },
  {
   "cell_type": "code",
   "execution_count": 37,
   "metadata": {
    "colab": {
     "base_uri": "https://localhost:8080/",
     "height": 796
    },
    "id": "2CFB1kIzZ74T",
    "outputId": "6fefb26b-e591-4cef-82a6-2381128057df"
   },
   "outputs": [
    {
     "name": "stdout",
     "output_type": "stream",
     "text": [
      "Общее количество слов за 2022 год 592197\n"
     ]
    },
    {
     "data": {
      "text/html": [
       "<style type=\"text/css\">\n",
       "#T_50186_row0_col1, #T_50186_row0_col2 {\n",
       "  background-color: #00441b;\n",
       "  color: #f1f1f1;\n",
       "}\n",
       "#T_50186_row1_col1, #T_50186_row1_col2 {\n",
       "  background-color: #36a164;\n",
       "  color: #f1f1f1;\n",
       "}\n",
       "#T_50186_row2_col1, #T_50186_row2_col2 {\n",
       "  background-color: #c4e9e1;\n",
       "  color: #000000;\n",
       "}\n",
       "#T_50186_row3_col1, #T_50186_row3_col2, #T_50186_row20_col1, #T_50186_row20_col2 {\n",
       "  background-color: #e8f6fa;\n",
       "  color: #000000;\n",
       "}\n",
       "#T_50186_row4_col1, #T_50186_row4_col2 {\n",
       "  background-color: #e0f3f5;\n",
       "  color: #000000;\n",
       "}\n",
       "#T_50186_row5_col1, #T_50186_row5_col2, #T_50186_row12_col1, #T_50186_row12_col2 {\n",
       "  background-color: #ebf7fa;\n",
       "  color: #000000;\n",
       "}\n",
       "#T_50186_row6_col1, #T_50186_row6_col2, #T_50186_row18_col1, #T_50186_row18_col2 {\n",
       "  background-color: #edf8fb;\n",
       "  color: #000000;\n",
       "}\n",
       "#T_50186_row7_col1, #T_50186_row7_col2 {\n",
       "  background-color: #eff9fb;\n",
       "  color: #000000;\n",
       "}\n",
       "#T_50186_row8_col1, #T_50186_row8_col2, #T_50186_row13_col1, #T_50186_row13_col2, #T_50186_row14_col1, #T_50186_row14_col2 {\n",
       "  background-color: #f5fbfd;\n",
       "  color: #000000;\n",
       "}\n",
       "#T_50186_row9_col1, #T_50186_row9_col2, #T_50186_row10_col1, #T_50186_row10_col2, #T_50186_row22_col1, #T_50186_row22_col2, #T_50186_row23_col1, #T_50186_row23_col2, #T_50186_row24_col1, #T_50186_row24_col2 {\n",
       "  background-color: #f4fbfc;\n",
       "  color: #000000;\n",
       "}\n",
       "#T_50186_row11_col1, #T_50186_row11_col2, #T_50186_row19_col1, #T_50186_row19_col2 {\n",
       "  background-color: #f1fafc;\n",
       "  color: #000000;\n",
       "}\n",
       "#T_50186_row15_col1, #T_50186_row15_col2 {\n",
       "  background-color: #f3fafc;\n",
       "  color: #000000;\n",
       "}\n",
       "#T_50186_row16_col1, #T_50186_row16_col2, #T_50186_row21_col1, #T_50186_row21_col2 {\n",
       "  background-color: #f7fcfd;\n",
       "  color: #000000;\n",
       "}\n",
       "#T_50186_row17_col1, #T_50186_row17_col2 {\n",
       "  background-color: #f6fcfd;\n",
       "  color: #000000;\n",
       "}\n",
       "#T_50186_row25_col1, #T_50186_row25_col2 {\n",
       "  background-color: #eaf7fa;\n",
       "  color: #000000;\n",
       "}\n",
       "#T_50186_row26_col1, #T_50186_row26_col2, #T_50186_row27_col1, #T_50186_row27_col2 {\n",
       "  background-color: #f5fbfc;\n",
       "  color: #000000;\n",
       "}\n",
       "</style>\n",
       "<table id=\"T_50186_\">\n",
       "  <thead>\n",
       "    <tr>\n",
       "      <th class=\"blank level0\" >&nbsp;</th>\n",
       "      <th class=\"col_heading level0 col0\" >Слово</th>\n",
       "      <th class=\"col_heading level0 col1\" >Количество</th>\n",
       "      <th class=\"col_heading level0 col2\" >Частотность</th>\n",
       "    </tr>\n",
       "  </thead>\n",
       "  <tbody>\n",
       "    <tr>\n",
       "      <th id=\"T_50186_level0_row0\" class=\"row_heading level0 row0\" >0</th>\n",
       "      <td id=\"T_50186_row0_col0\" class=\"data row0 col0\" >наш</td>\n",
       "      <td id=\"T_50186_row0_col1\" class=\"data row0 col1\" >2836</td>\n",
       "      <td id=\"T_50186_row0_col2\" class=\"data row0 col2\" >0.004789</td>\n",
       "    </tr>\n",
       "    <tr>\n",
       "      <th id=\"T_50186_level0_row1\" class=\"row_heading level0 row1\" >1</th>\n",
       "      <td id=\"T_50186_row1_col0\" class=\"data row1 col0\" >россия</td>\n",
       "      <td id=\"T_50186_row1_col1\" class=\"data row1 col1\" >1907</td>\n",
       "      <td id=\"T_50186_row1_col2\" class=\"data row1 col2\" >0.003220</td>\n",
       "    </tr>\n",
       "    <tr>\n",
       "      <th id=\"T_50186_level0_row2\" class=\"row_heading level0 row2\" >2</th>\n",
       "      <td id=\"T_50186_row2_col0\" class=\"data row2 col0\" >президент</td>\n",
       "      <td id=\"T_50186_row2_col1\" class=\"data row2 col1\" >788</td>\n",
       "      <td id=\"T_50186_row2_col2\" class=\"data row2 col2\" >0.001331</td>\n",
       "    </tr>\n",
       "    <tr>\n",
       "      <th id=\"T_50186_level0_row3\" class=\"row_heading level0 row3\" >3</th>\n",
       "      <td id=\"T_50186_row3_col0\" class=\"data row3 col0\" >власть</td>\n",
       "      <td id=\"T_50186_row3_col1\" class=\"data row3 col1\" >316</td>\n",
       "      <td id=\"T_50186_row3_col2\" class=\"data row3 col2\" >0.000534</td>\n",
       "    </tr>\n",
       "    <tr>\n",
       "      <th id=\"T_50186_level0_row4\" class=\"row_heading level0 row4\" >4</th>\n",
       "      <td id=\"T_50186_row4_col0\" class=\"data row4 col0\" >государство</td>\n",
       "      <td id=\"T_50186_row4_col1\" class=\"data row4 col1\" >454</td>\n",
       "      <td id=\"T_50186_row4_col2\" class=\"data row4 col2\" >0.000767</td>\n",
       "    </tr>\n",
       "    <tr>\n",
       "      <th id=\"T_50186_level0_row5\" class=\"row_heading level0 row5\" >5</th>\n",
       "      <td id=\"T_50186_row5_col0\" class=\"data row5 col0\" >мир</td>\n",
       "      <td id=\"T_50186_row5_col1\" class=\"data row5 col1\" >275</td>\n",
       "      <td id=\"T_50186_row5_col2\" class=\"data row5 col2\" >0.000464</td>\n",
       "    </tr>\n",
       "    <tr>\n",
       "      <th id=\"T_50186_level0_row6\" class=\"row_heading level0 row6\" >6</th>\n",
       "      <td id=\"T_50186_row6_col0\" class=\"data row6 col0\" >война</td>\n",
       "      <td id=\"T_50186_row6_col1\" class=\"data row6 col1\" >226</td>\n",
       "      <td id=\"T_50186_row6_col2\" class=\"data row6 col2\" >0.000382</td>\n",
       "    </tr>\n",
       "    <tr>\n",
       "      <th id=\"T_50186_level0_row7\" class=\"row_heading level0 row7\" >7</th>\n",
       "      <td id=\"T_50186_row7_col0\" class=\"data row7 col0\" >народ</td>\n",
       "      <td id=\"T_50186_row7_col1\" class=\"data row7 col1\" >190</td>\n",
       "      <td id=\"T_50186_row7_col2\" class=\"data row7 col2\" >0.000321</td>\n",
       "    </tr>\n",
       "    <tr>\n",
       "      <th id=\"T_50186_level0_row8\" class=\"row_heading level0 row8\" >8</th>\n",
       "      <td id=\"T_50186_row8_col0\" class=\"data row8 col0\" >конституция</td>\n",
       "      <td id=\"T_50186_row8_col1\" class=\"data row8 col1\" >68</td>\n",
       "      <td id=\"T_50186_row8_col2\" class=\"data row8 col2\" >0.000115</td>\n",
       "    </tr>\n",
       "    <tr>\n",
       "      <th id=\"T_50186_level0_row9\" class=\"row_heading level0 row9\" >9</th>\n",
       "      <td id=\"T_50186_row9_col0\" class=\"data row9 col0\" >советский</td>\n",
       "      <td id=\"T_50186_row9_col1\" class=\"data row9 col1\" >97</td>\n",
       "      <td id=\"T_50186_row9_col2\" class=\"data row9 col2\" >0.000164</td>\n",
       "    </tr>\n",
       "    <tr>\n",
       "      <th id=\"T_50186_level0_row10\" class=\"row_heading level0 row10\" >10</th>\n",
       "      <td id=\"T_50186_row10_col0\" class=\"data row10 col0\" >союз</td>\n",
       "      <td id=\"T_50186_row10_col1\" class=\"data row10 col1\" >104</td>\n",
       "      <td id=\"T_50186_row10_col2\" class=\"data row10 col2\" >0.000176</td>\n",
       "    </tr>\n",
       "    <tr>\n",
       "      <th id=\"T_50186_level0_row11\" class=\"row_heading level0 row11\" >11</th>\n",
       "      <td id=\"T_50186_row11_col0\" class=\"data row11 col0\" >пенсия</td>\n",
       "      <td id=\"T_50186_row11_col1\" class=\"data row11 col1\" >158</td>\n",
       "      <td id=\"T_50186_row11_col2\" class=\"data row11 col2\" >0.000267</td>\n",
       "    </tr>\n",
       "    <tr>\n",
       "      <th id=\"T_50186_level0_row12\" class=\"row_heading level0 row12\" >12</th>\n",
       "      <td id=\"T_50186_row12_col0\" class=\"data row12 col0\" >образование</td>\n",
       "      <td id=\"T_50186_row12_col1\" class=\"data row12 col1\" >262</td>\n",
       "      <td id=\"T_50186_row12_col2\" class=\"data row12 col2\" >0.000442</td>\n",
       "    </tr>\n",
       "    <tr>\n",
       "      <th id=\"T_50186_level0_row13\" class=\"row_heading level0 row13\" >13</th>\n",
       "      <td id=\"T_50186_row13_col0\" class=\"data row13 col0\" >наука</td>\n",
       "      <td id=\"T_50186_row13_col1\" class=\"data row13 col1\" >73</td>\n",
       "      <td id=\"T_50186_row13_col2\" class=\"data row13 col2\" >0.000123</td>\n",
       "    </tr>\n",
       "    <tr>\n",
       "      <th id=\"T_50186_level0_row14\" class=\"row_heading level0 row14\" >14</th>\n",
       "      <td id=\"T_50186_row14_col0\" class=\"data row14 col0\" >свобода</td>\n",
       "      <td id=\"T_50186_row14_col1\" class=\"data row14 col1\" >70</td>\n",
       "      <td id=\"T_50186_row14_col2\" class=\"data row14 col2\" >0.000118</td>\n",
       "    </tr>\n",
       "    <tr>\n",
       "      <th id=\"T_50186_level0_row15\" class=\"row_heading level0 row15\" >15</th>\n",
       "      <td id=\"T_50186_row15_col0\" class=\"data row15 col0\" >язык</td>\n",
       "      <td id=\"T_50186_row15_col1\" class=\"data row15 col1\" >111</td>\n",
       "      <td id=\"T_50186_row15_col2\" class=\"data row15 col2\" >0.000187</td>\n",
       "    </tr>\n",
       "    <tr>\n",
       "      <th id=\"T_50186_level0_row16\" class=\"row_heading level0 row16\" >16</th>\n",
       "      <td id=\"T_50186_row16_col0\" class=\"data row16 col0\" >коррупция</td>\n",
       "      <td id=\"T_50186_row16_col1\" class=\"data row16 col1\" >40</td>\n",
       "      <td id=\"T_50186_row16_col2\" class=\"data row16 col2\" >0.000068</td>\n",
       "    </tr>\n",
       "    <tr>\n",
       "      <th id=\"T_50186_level0_row17\" class=\"row_heading level0 row17\" >17</th>\n",
       "      <td id=\"T_50186_row17_col0\" class=\"data row17 col0\" >крым</td>\n",
       "      <td id=\"T_50186_row17_col1\" class=\"data row17 col1\" >54</td>\n",
       "      <td id=\"T_50186_row17_col2\" class=\"data row17 col2\" >0.000091</td>\n",
       "    </tr>\n",
       "    <tr>\n",
       "      <th id=\"T_50186_level0_row18\" class=\"row_heading level0 row18\" >18</th>\n",
       "      <td id=\"T_50186_row18_col0\" class=\"data row18 col0\" >русский</td>\n",
       "      <td id=\"T_50186_row18_col1\" class=\"data row18 col1\" >232</td>\n",
       "      <td id=\"T_50186_row18_col2\" class=\"data row18 col2\" >0.000392</td>\n",
       "    </tr>\n",
       "    <tr>\n",
       "      <th id=\"T_50186_level0_row19\" class=\"row_heading level0 row19\" >19</th>\n",
       "      <td id=\"T_50186_row19_col0\" class=\"data row19 col0\" >мировой</td>\n",
       "      <td id=\"T_50186_row19_col1\" class=\"data row19 col1\" >145</td>\n",
       "      <td id=\"T_50186_row19_col2\" class=\"data row19 col2\" >0.000245</td>\n",
       "    </tr>\n",
       "    <tr>\n",
       "      <th id=\"T_50186_level0_row20\" class=\"row_heading level0 row20\" >20</th>\n",
       "      <td id=\"T_50186_row20_col0\" class=\"data row20 col0\" >иностранный</td>\n",
       "      <td id=\"T_50186_row20_col1\" class=\"data row20 col1\" >316</td>\n",
       "      <td id=\"T_50186_row20_col2\" class=\"data row20 col2\" >0.000534</td>\n",
       "    </tr>\n",
       "    <tr>\n",
       "      <th id=\"T_50186_level0_row21\" class=\"row_heading level0 row21\" >21</th>\n",
       "      <td id=\"T_50186_row21_col0\" class=\"data row21 col0\" >восточный</td>\n",
       "      <td id=\"T_50186_row21_col1\" class=\"data row21 col1\" >30</td>\n",
       "      <td id=\"T_50186_row21_col2\" class=\"data row21 col2\" >0.000051</td>\n",
       "    </tr>\n",
       "    <tr>\n",
       "      <th id=\"T_50186_level0_row22\" class=\"row_heading level0 row22\" >22</th>\n",
       "      <td id=\"T_50186_row22_col0\" class=\"data row22 col0\" >западный</td>\n",
       "      <td id=\"T_50186_row22_col1\" class=\"data row22 col1\" >90</td>\n",
       "      <td id=\"T_50186_row22_col2\" class=\"data row22 col2\" >0.000152</td>\n",
       "    </tr>\n",
       "    <tr>\n",
       "      <th id=\"T_50186_level0_row23\" class=\"row_heading level0 row23\" >23</th>\n",
       "      <td id=\"T_50186_row23_col0\" class=\"data row23 col0\" >запад</td>\n",
       "      <td id=\"T_50186_row23_col1\" class=\"data row23 col1\" >104</td>\n",
       "      <td id=\"T_50186_row23_col2\" class=\"data row23 col2\" >0.000176</td>\n",
       "    </tr>\n",
       "    <tr>\n",
       "      <th id=\"T_50186_level0_row24\" class=\"row_heading level0 row24\" >24</th>\n",
       "      <td id=\"T_50186_row24_col0\" class=\"data row24 col0\" >европа</td>\n",
       "      <td id=\"T_50186_row24_col1\" class=\"data row24 col1\" >87</td>\n",
       "      <td id=\"T_50186_row24_col2\" class=\"data row24 col2\" >0.000147</td>\n",
       "    </tr>\n",
       "    <tr>\n",
       "      <th id=\"T_50186_level0_row25\" class=\"row_heading level0 row25\" >25</th>\n",
       "      <td id=\"T_50186_row25_col0\" class=\"data row25 col0\" >украина</td>\n",
       "      <td id=\"T_50186_row25_col1\" class=\"data row25 col1\" >291</td>\n",
       "      <td id=\"T_50186_row25_col2\" class=\"data row25 col2\" >0.000491</td>\n",
       "    </tr>\n",
       "    <tr>\n",
       "      <th id=\"T_50186_level0_row26\" class=\"row_heading level0 row26\" >26</th>\n",
       "      <td id=\"T_50186_row26_col0\" class=\"data row26 col0\" >сша</td>\n",
       "      <td id=\"T_50186_row26_col1\" class=\"data row26 col1\" >84</td>\n",
       "      <td id=\"T_50186_row26_col2\" class=\"data row26 col2\" >0.000142</td>\n",
       "    </tr>\n",
       "    <tr>\n",
       "      <th id=\"T_50186_level0_row27\" class=\"row_heading level0 row27\" >27</th>\n",
       "      <td id=\"T_50186_row27_col0\" class=\"data row27 col0\" >америка</td>\n",
       "      <td id=\"T_50186_row27_col1\" class=\"data row27 col1\" >82</td>\n",
       "      <td id=\"T_50186_row27_col2\" class=\"data row27 col2\" >0.000138</td>\n",
       "    </tr>\n",
       "  </tbody>\n",
       "</table>\n"
      ],
      "text/plain": [
       "<pandas.io.formats.style.Styler at 0x7facdab10df0>"
      ]
     },
     "execution_count": 37,
     "metadata": {},
     "output_type": "execute_result"
    }
   ],
   "source": [
    "print(\"Общее количество слов за 2022 год\", fdist.N())\n",
    "w_data.style.background_gradient(cmap=\"BuGn\")\n"
   ]
  },
  {
   "cell_type": "code",
   "execution_count": 22,
   "metadata": {
    "id": "6lzBTXg-Yr77"
   },
   "outputs": [],
   "source": [
    "from matplotlib import pyplot as plt"
   ]
  },
  {
   "cell_type": "code",
   "execution_count": 38,
   "metadata": {
    "colab": {
     "base_uri": "https://localhost:8080/",
     "height": 622
    },
    "id": "Fy48yRx9VR_M",
    "outputId": "43344b2d-7eb5-4a4c-a0a3-16c379e8069c"
   },
   "outputs": [
    {
     "data": {
      "image/png": "[encoded data removed]",
      "text/plain": [
       "<Figure size 720x720 with 1 Axes>"
      ]
     },
     "metadata": {
      "needs_background": "light"
     },
     "output_type": "display_data"
    }
   ],
   "source": [
    "w_data.plot.barh (x = 'Слово', y ='Частотность', figsize = (10, 10), color=['green'])\n",
    "\n",
    "plt.title(\"Частотность слов за 2022 год\")\n",
    "plt.xlabel(\"Слово\")\n",
    "plt.ylabel(\"Частотность слова\")\n",
    "plt.savefig('2022_p.png')"
   ]
  },
  {
   "cell_type": "code",
   "execution_count": null,
   "metadata": {},
   "outputs": [],
   "source": []
  }
 ],
 "metadata": {
  "colab": {
   "name": "Norm_analysisipynb",
   "provenance": []
  },
  "kernelspec": {
   "display_name": "Python 3 (ipykernel)",
   "language": "python",
   "name": "python3"
  },
  "language_info": {
   "codemirror_mode": {
    "name": "ipython",
    "version": 3
   },
   "file_extension": ".py",
   "mimetype": "text/x-python",
   "name": "python",
   "nbconvert_exporter": "python",
   "pygments_lexer": "ipython3",
   "version": "3.9.12"
  }
 },
 "nbformat": 4,
 "nbformat_minor": 1
}
