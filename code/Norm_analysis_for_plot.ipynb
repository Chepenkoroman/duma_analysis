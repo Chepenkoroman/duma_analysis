{
  "nbformat": 4,
  "nbformat_minor": 0,
  "metadata": {
    "colab": {
      "name": "Norm_analysisipynb",
      "provenance": []
    },
    "kernelspec": {
      "name": "python3",
      "display_name": "Python 3"
    },
    "language_info": {
      "name": "python"
    }
  },
  "cells": [
    {
      "cell_type": "code",
      "metadata": {
        "id": "yTrkIAEZcFt4"
      },
      "source": [
        "f = open('2014_norm.txt', \"r\")\n",
        "text = f.read()"
      ],
      "execution_count": 144,
      "outputs": []
    },
    {
      "cell_type": "code",
      "metadata": {
        "colab": {
          "base_uri": "https://localhost:8080/"
        },
        "id": "KorRCnAscb7V",
        "outputId": "8b8bce07-4e5c-441e-f09e-86e54bffcaff"
      },
      "source": [
        "type(text)"
      ],
      "execution_count": 66,
      "outputs": [
        {
          "output_type": "execute_result",
          "data": {
            "text/plain": [
              "str"
            ]
          },
          "metadata": {
            "tags": []
          },
          "execution_count": 66
        }
      ]
    },
    {
      "cell_type": "code",
      "metadata": {
        "id": "I-N5AiBGywvZ"
      },
      "source": [
        "text[:100]"
      ],
      "execution_count": null,
      "outputs": []
    },
    {
      "cell_type": "code",
      "metadata": {
        "colab": {
          "base_uri": "https://localhost:8080/"
        },
        "id": "d-R4h6aKdHDs",
        "outputId": "61f6eb97-3220-4d1e-a89f-2970c6fc29cd"
      },
      "source": [
        "pip install nltk"
      ],
      "execution_count": 67,
      "outputs": [
        {
          "output_type": "stream",
          "text": [
            "Requirement already satisfied: nltk in /usr/local/lib/python3.7/dist-packages (3.2.5)\n",
            "Requirement already satisfied: six in /usr/local/lib/python3.7/dist-packages (from nltk) (1.15.0)\n"
          ],
          "name": "stdout"
        }
      ]
    },
    {
      "cell_type": "code",
      "metadata": {
        "colab": {
          "base_uri": "https://localhost:8080/"
        },
        "id": "_3tfmH_7dMJ6",
        "outputId": "f66a6b56-f6df-4ef9-de86-7400df9df3a3"
      },
      "source": [
        "import nltk\n",
        "nltk.download('punkt')"
      ],
      "execution_count": 68,
      "outputs": [
        {
          "output_type": "stream",
          "text": [
            "[nltk_data] Downloading package punkt to /root/nltk_data...\n",
            "[nltk_data]   Package punkt is already up-to-date!\n"
          ],
          "name": "stdout"
        },
        {
          "output_type": "execute_result",
          "data": {
            "text/plain": [
              "True"
            ]
          },
          "metadata": {
            "tags": []
          },
          "execution_count": 68
        }
      ]
    },
    {
      "cell_type": "code",
      "metadata": {
        "id": "jn5X4Qxicdt7"
      },
      "source": [
        "from nltk import word_tokenize\n"
      ],
      "execution_count": 69,
      "outputs": []
    },
    {
      "cell_type": "code",
      "metadata": {
        "id": "-9qLiB4-zMr4"
      },
      "source": [
        "text_tokens = word_tokenize(text)"
      ],
      "execution_count": 145,
      "outputs": []
    },
    {
      "cell_type": "code",
      "metadata": {
        "id": "XYwakvYEcipI",
        "colab": {
          "base_uri": "https://localhost:8080/"
        },
        "outputId": "17feda36-da9a-4a18-bc3b-5434ba86e55c"
      },
      "source": [
        "print(type(text_tokens), len(text_tokens))\n",
        "text_tokens[:5]"
      ],
      "execution_count": 146,
      "outputs": [
        {
          "output_type": "stream",
          "text": [
            "<class 'list'> 2640592\n"
          ],
          "name": "stdout"
        },
        {
          "output_type": "execute_result",
          "data": {
            "text/plain": [
              "['январь', 'здание', 'государственный', 'дума', 'большой']"
            ]
          },
          "metadata": {
            "tags": []
          },
          "execution_count": 146
        }
      ]
    },
    {
      "cell_type": "code",
      "metadata": {
        "colab": {
          "base_uri": "https://localhost:8080/"
        },
        "id": "ufsa5y_Bck_t",
        "outputId": "f497de40-6607-4910-c677-79fc43c4acea"
      },
      "source": [
        "\n",
        "text = nltk.Text(text_tokens)\n",
        "print(type(text))\n",
        "text[:5]"
      ],
      "execution_count": 147,
      "outputs": [
        {
          "output_type": "stream",
          "text": [
            "<class 'nltk.text.Text'>\n"
          ],
          "name": "stdout"
        },
        {
          "output_type": "execute_result",
          "data": {
            "text/plain": [
              "['январь', 'здание', 'государственный', 'дума', 'большой']"
            ]
          },
          "metadata": {
            "tags": []
          },
          "execution_count": 147
        }
      ]
    },
    {
      "cell_type": "code",
      "metadata": {
        "id": "wsa4nqdvcu2Y"
      },
      "source": [
        ""
      ],
      "execution_count": null,
      "outputs": []
    },
    {
      "cell_type": "markdown",
      "metadata": {
        "id": "v9Hw1d1vcvN_"
      },
      "source": [
        "Расчет частотности"
      ]
    },
    {
      "cell_type": "code",
      "metadata": {
        "colab": {
          "base_uri": "https://localhost:8080/"
        },
        "id": "JH9mNRMUczOQ",
        "outputId": "46f76925-7a5a-4f49-fec8-74bdf941cce5"
      },
      "source": [
        "%%time\n",
        "from nltk.probability import FreqDist\n"
      ],
      "execution_count": 73,
      "outputs": [
        {
          "output_type": "stream",
          "text": [
            "CPU times: user 23 µs, sys: 1 µs, total: 24 µs\n",
            "Wall time: 27.9 µs\n"
          ],
          "name": "stdout"
        }
      ]
    },
    {
      "cell_type": "code",
      "metadata": {
        "id": "_O9ggLqix_zV"
      },
      "source": [
        "fdist = FreqDist(text)\n"
      ],
      "execution_count": 148,
      "outputs": []
    },
    {
      "cell_type": "code",
      "metadata": {
        "id": "XcyTP1Vwa9SB"
      },
      "source": [
        "import re"
      ],
      "execution_count": 75,
      "outputs": []
    },
    {
      "cell_type": "markdown",
      "metadata": {
        "id": "I45-YMCdKM9K"
      },
      "source": [
        "Расчет частотности определенных слов:\n",
        "1. Мы (пока уберем)\n",
        "2. Наш\n",
        "3. Ваш\n",
        "4. Их\n",
        "5. Россия\n",
        "6. Президент\n",
        "7. Власть\n",
        "8. Государство\n",
        "9. Мир\n",
        "10. Война\n",
        "11. Народ\n",
        "12. Конституция\n",
        "13. Советский\n",
        "14. Союз\n",
        "15. Пенсия ?\n",
        "16. Образование ?\n",
        "17. Наука\n",
        "18. Свобода\n",
        "19. Язык ?\n",
        "20. Коррупция\n",
        "21. Крым\n",
        "22. Русский\n",
        "23. Мировой\n",
        "24. Иностранный \n",
        "25. Восточный\n",
        "26. Западный\n",
        "27. Запад\n",
        "28. Европа\n",
        "29. Украина\n",
        "30. США\n",
        "31. Америка"
      ]
    },
    {
      "cell_type": "code",
      "metadata": {
        "colab": {
          "base_uri": "https://localhost:8080/",
          "height": 42
        },
        "id": "kQHGJTvXMcJ1",
        "outputId": "e69a0315-ce42-410c-820b-bb179ffdc91f"
      },
      "source": [
        "# Балуемся с pandas\n",
        "#import re # ну регулярки нам всегда нужны\n",
        "import pandas as pd # пандас традиционно импортируют с алиасом pd, будем придерживаться\n",
        "pd.__version__"
      ],
      "execution_count": 76,
      "outputs": [
        {
          "output_type": "execute_result",
          "data": {
            "application/vnd.google.colaboratory.intrinsic+json": {
              "type": "string"
            },
            "text/plain": [
              "'1.1.5'"
            ]
          },
          "metadata": {
            "tags": []
          },
          "execution_count": 76
        }
      ]
    },
    {
      "cell_type": "code",
      "metadata": {
        "id": "uyRazZoWyWup"
      },
      "source": [
        "word_name.clear()\n",
        "word_count.clear()\n",
        "word_freq.clear()"
      ],
      "execution_count": 149,
      "outputs": []
    },
    {
      "cell_type": "code",
      "metadata": {
        "colab": {
          "base_uri": "https://localhost:8080/"
        },
        "id": "MlObWCJ0TQII",
        "outputId": "8ab81725-4d19-461d-c17f-0328ca4cd715"
      },
      "source": [
        "# Test\n",
        "\n",
        "print(\"Общее количество слов\", fdist.N())\n",
        "\n",
        "word_name = []\n",
        "word_count = []\n",
        "word_freq = []\n",
        "\n",
        "#for w in fdist:\n",
        "#    if re.search('^мы$', w):\n",
        "#        word_name.append(w)\n",
        "#        word_count.append(fdist[w])\n",
        "#        word_freq.append(fdist.freq(w))\n",
        "for w in fdist:\n",
        "    if re.search('^наш$', w):\n",
        "        word_name.append(w)\n",
        "        word_count.append(fdist[w])\n",
        "        word_freq.append(fdist.freq(w))\n",
        "for w in fdist:\n",
        "    if re.search('^их$', w):\n",
        "        word_name.append(w)\n",
        "        word_count.append(fdist[w])\n",
        "        word_freq.append(fdist.freq(w))\n",
        "for w in fdist:\n",
        "    if re.search('^россия$', w):\n",
        "        word_name.append(w)\n",
        "        word_count.append(fdist[w])\n",
        "        word_freq.append(fdist.freq(w))\n",
        "for w in fdist:\n",
        "    if re.search('^президент$', w):\n",
        "        word_name.append(w)\n",
        "        word_count.append(fdist[w])\n",
        "        word_freq.append(fdist.freq(w))\n",
        "for w in fdist:\n",
        "    if re.search('^власть$', w):\n",
        "        word_name.append(w)\n",
        "        word_count.append(fdist[w])\n",
        "        word_freq.append(fdist.freq(w))\n",
        "for w in fdist:\n",
        "    if re.search('^государство$', w):\n",
        "        word_name.append(w)\n",
        "        word_count.append(fdist[w])\n",
        "        word_freq.append(fdist.freq(w))\n",
        "for w in fdist:\n",
        "    if re.search('^мир$', w):\n",
        "        word_name.append(w)\n",
        "        word_count.append(fdist[w])\n",
        "        word_freq.append(fdist.freq(w))\n",
        "for w in fdist:\n",
        "    if re.search('^война$', w):\n",
        "        word_name.append(w)\n",
        "        word_count.append(fdist[w])\n",
        "        word_freq.append(fdist.freq(w))\n",
        "for w in fdist:\n",
        "    if re.search('^народ$', w):\n",
        "        word_name.append(w)\n",
        "        word_count.append(fdist[w])\n",
        "        word_freq.append(fdist.freq(w))\n",
        "for w in fdist:\n",
        "    if re.search('^конституция$', w):\n",
        "        word_name.append(w)\n",
        "        word_count.append(fdist[w])\n",
        "        word_freq.append(fdist.freq(w))\n",
        "for w in fdist:\n",
        "    if re.search('^советский$', w):\n",
        "        word_name.append(w)\n",
        "        word_count.append(fdist[w])\n",
        "        word_freq.append(fdist.freq(w))\n",
        "for w in fdist:\n",
        "    if re.search('^союз$', w):\n",
        "        word_name.append(w)\n",
        "        word_count.append(fdist[w])\n",
        "        word_freq.append(fdist.freq(w))\n",
        "for w in fdist:\n",
        "    if re.search('^пенсия$', w):\n",
        "        word_name.append(w)\n",
        "        word_count.append(fdist[w])\n",
        "        word_freq.append(fdist.freq(w))\n",
        "for w in fdist:\n",
        "    if re.search('^образование$', w):\n",
        "        word_name.append(w)\n",
        "        word_count.append(fdist[w])\n",
        "        word_freq.append(fdist.freq(w))\n",
        "for w in fdist:\n",
        "    if re.search('^наука$', w):\n",
        "        word_name.append(w)\n",
        "        word_count.append(fdist[w])\n",
        "        word_freq.append(fdist.freq(w))\n",
        "for w in fdist:\n",
        "    if re.search('^свобода$', w):\n",
        "        word_name.append(w)\n",
        "        word_count.append(fdist[w])\n",
        "        word_freq.append(fdist.freq(w))\n",
        "for w in fdist:\n",
        "    if re.search('^язык$', w):\n",
        "        word_name.append(w)\n",
        "        word_count.append(fdist[w])\n",
        "        word_freq.append(fdist.freq(w))\n",
        "for w in fdist:\n",
        "    if re.search('^коррупция$', w):\n",
        "        word_name.append(w)\n",
        "        word_count.append(fdist[w])\n",
        "        word_freq.append(fdist.freq(w))\n",
        "for w in fdist:\n",
        "    if re.search('^крым$', w):\n",
        "        word_name.append(w)\n",
        "        word_count.append(fdist[w])\n",
        "        word_freq.append(fdist.freq(w))\n",
        "for w in fdist:\n",
        "    if re.search('^русский$', w):\n",
        "        word_name.append(w)\n",
        "        word_count.append(fdist[w])\n",
        "        word_freq.append(fdist.freq(w))\n",
        "for w in fdist:\n",
        "    if re.search('^мировой$', w):\n",
        "        word_name.append(w)\n",
        "        word_count.append(fdist[w])\n",
        "        word_freq.append(fdist.freq(w))\n",
        "for w in fdist:\n",
        "    if re.search('^иностранный$', w):\n",
        "        word_name.append(w)\n",
        "        word_count.append(fdist[w])\n",
        "        word_freq.append(fdist.freq(w))\n",
        "for w in fdist:\n",
        "    if re.search('^восточный$', w):\n",
        "        word_name.append(w)\n",
        "        word_count.append(fdist[w])\n",
        "        word_freq.append(fdist.freq(w))\n",
        "for w in fdist:\n",
        "    if re.search('^западный$', w):\n",
        "        word_name.append(w)\n",
        "        word_count.append(fdist[w])\n",
        "        word_freq.append(fdist.freq(w))\n",
        "for w in fdist:\n",
        "    if re.search('^запад$', w):\n",
        "        word_name.append(w)\n",
        "        word_count.append(fdist[w])\n",
        "        word_freq.append(fdist.freq(w))\n",
        "for w in fdist:\n",
        "    if re.search('^европа$', w):\n",
        "        word_name.append(w)\n",
        "        word_count.append(fdist[w])\n",
        "        word_freq.append(fdist.freq(w))\n",
        "for w in fdist:\n",
        "    if re.search('^украина$', w):\n",
        "        word_name.append(w)\n",
        "        word_count.append(fdist[w])\n",
        "        word_freq.append(fdist.freq(w))\n",
        "for w in fdist:\n",
        "    if re.search('^сша$', w):\n",
        "        word_name.append(w)\n",
        "        word_count.append(fdist[w])\n",
        "        word_freq.append(fdist.freq(w))\n",
        "for w in fdist:\n",
        "    if re.search('^америка$', w):\n",
        "        word_name.append(w)\n",
        "        word_count.append(fdist[w])\n",
        "        word_freq.append(fdist.freq(w))"
      ],
      "execution_count": 150,
      "outputs": [
        {
          "output_type": "stream",
          "text": [
            "Общее количество слов 2640592\n"
          ],
          "name": "stdout"
        }
      ]
    },
    {
      "cell_type": "code",
      "metadata": {
        "id": "WYAQycheRhKy"
      },
      "source": [
        "w_name = pd.Series(word_name)\n",
        "w_count = pd.Series(word_count)\n",
        "w_freq = pd.Series(word_freq)"
      ],
      "execution_count": 151,
      "outputs": []
    },
    {
      "cell_type": "code",
      "metadata": {
        "id": "AoEwEzhNVwRV"
      },
      "source": [
        "w_data = pd.DataFrame({ 'Слово': w_name, 'Количество': w_count, 'Частотность': word_freq })\n"
      ],
      "execution_count": 152,
      "outputs": []
    },
    {
      "cell_type": "code",
      "metadata": {
        "id": "zL94ABtv8tcD"
      },
      "source": [
        ""
      ],
      "execution_count": null,
      "outputs": []
    },
    {
      "cell_type": "code",
      "metadata": {
        "id": "7mCEPRih9Vud"
      },
      "source": [
        ""
      ],
      "execution_count": null,
      "outputs": []
    },
    {
      "cell_type": "code",
      "metadata": {
        "colab": {
          "base_uri": "https://localhost:8080/",
          "height": 796
        },
        "id": "2CFB1kIzZ74T",
        "outputId": "6fefb26b-e591-4cef-82a6-2381128057df"
      },
      "source": [
        "print(\"Общее количество слов за 2015 год\", fdist.N())\n",
        "w_data.style.background_gradient(cmap=\"BuGn\")\n"
      ],
      "execution_count": 153,
      "outputs": [
        {
          "output_type": "stream",
          "text": [
            "Общее количество слов за 2015 год 2640592\n"
          ],
          "name": "stdout"
        },
        {
          "output_type": "execute_result",
          "data": {
            "text/html": [
              "<style  type=\"text/css\" >\n",
              "#T_fdf4c7e0_d1af_11eb_873d_0242ac1c0002row0_col1,#T_fdf4c7e0_d1af_11eb_873d_0242ac1c0002row0_col2{\n",
              "            background-color:  #00441b;\n",
              "            color:  #f1f1f1;\n",
              "        }#T_fdf4c7e0_d1af_11eb_873d_0242ac1c0002row1_col1,#T_fdf4c7e0_d1af_11eb_873d_0242ac1c0002row1_col2{\n",
              "            background-color:  #18823d;\n",
              "            color:  #f1f1f1;\n",
              "        }#T_fdf4c7e0_d1af_11eb_873d_0242ac1c0002row2_col1,#T_fdf4c7e0_d1af_11eb_873d_0242ac1c0002row2_col2{\n",
              "            background-color:  #afe1d5;\n",
              "            color:  #000000;\n",
              "        }#T_fdf4c7e0_d1af_11eb_873d_0242ac1c0002row3_col1,#T_fdf4c7e0_d1af_11eb_873d_0242ac1c0002row3_col2{\n",
              "            background-color:  #ddf2f3;\n",
              "            color:  #000000;\n",
              "        }#T_fdf4c7e0_d1af_11eb_873d_0242ac1c0002row4_col1,#T_fdf4c7e0_d1af_11eb_873d_0242ac1c0002row4_col2{\n",
              "            background-color:  #d7f0ee;\n",
              "            color:  #000000;\n",
              "        }#T_fdf4c7e0_d1af_11eb_873d_0242ac1c0002row5_col1,#T_fdf4c7e0_d1af_11eb_873d_0242ac1c0002row5_col2{\n",
              "            background-color:  #eaf7fa;\n",
              "            color:  #000000;\n",
              "        }#T_fdf4c7e0_d1af_11eb_873d_0242ac1c0002row6_col1,#T_fdf4c7e0_d1af_11eb_873d_0242ac1c0002row6_col2,#T_fdf4c7e0_d1af_11eb_873d_0242ac1c0002row8_col1,#T_fdf4c7e0_d1af_11eb_873d_0242ac1c0002row8_col2{\n",
              "            background-color:  #f1fafc;\n",
              "            color:  #000000;\n",
              "        }#T_fdf4c7e0_d1af_11eb_873d_0242ac1c0002row7_col1,#T_fdf4c7e0_d1af_11eb_873d_0242ac1c0002row7_col2{\n",
              "            background-color:  #eef8fb;\n",
              "            color:  #000000;\n",
              "        }#T_fdf4c7e0_d1af_11eb_873d_0242ac1c0002row9_col1,#T_fdf4c7e0_d1af_11eb_873d_0242ac1c0002row9_col2,#T_fdf4c7e0_d1af_11eb_873d_0242ac1c0002row15_col1,#T_fdf4c7e0_d1af_11eb_873d_0242ac1c0002row15_col2,#T_fdf4c7e0_d1af_11eb_873d_0242ac1c0002row18_col1,#T_fdf4c7e0_d1af_11eb_873d_0242ac1c0002row18_col2{\n",
              "            background-color:  #eff9fb;\n",
              "            color:  #000000;\n",
              "        }#T_fdf4c7e0_d1af_11eb_873d_0242ac1c0002row10_col1,#T_fdf4c7e0_d1af_11eb_873d_0242ac1c0002row10_col2{\n",
              "            background-color:  #f0f9fb;\n",
              "            color:  #000000;\n",
              "        }#T_fdf4c7e0_d1af_11eb_873d_0242ac1c0002row11_col1,#T_fdf4c7e0_d1af_11eb_873d_0242ac1c0002row11_col2{\n",
              "            background-color:  #e0f3f5;\n",
              "            color:  #000000;\n",
              "        }#T_fdf4c7e0_d1af_11eb_873d_0242ac1c0002row12_col1,#T_fdf4c7e0_d1af_11eb_873d_0242ac1c0002row12_col2{\n",
              "            background-color:  #e1f4f6;\n",
              "            color:  #000000;\n",
              "        }#T_fdf4c7e0_d1af_11eb_873d_0242ac1c0002row13_col1,#T_fdf4c7e0_d1af_11eb_873d_0242ac1c0002row13_col2,#T_fdf4c7e0_d1af_11eb_873d_0242ac1c0002row14_col1,#T_fdf4c7e0_d1af_11eb_873d_0242ac1c0002row14_col2{\n",
              "            background-color:  #f3fafc;\n",
              "            color:  #000000;\n",
              "        }#T_fdf4c7e0_d1af_11eb_873d_0242ac1c0002row16_col1,#T_fdf4c7e0_d1af_11eb_873d_0242ac1c0002row16_col2,#T_fdf4c7e0_d1af_11eb_873d_0242ac1c0002row19_col1,#T_fdf4c7e0_d1af_11eb_873d_0242ac1c0002row19_col2,#T_fdf4c7e0_d1af_11eb_873d_0242ac1c0002row25_col1,#T_fdf4c7e0_d1af_11eb_873d_0242ac1c0002row25_col2{\n",
              "            background-color:  #f2fafc;\n",
              "            color:  #000000;\n",
              "        }#T_fdf4c7e0_d1af_11eb_873d_0242ac1c0002row17_col1,#T_fdf4c7e0_d1af_11eb_873d_0242ac1c0002row17_col2,#T_fdf4c7e0_d1af_11eb_873d_0242ac1c0002row24_col1,#T_fdf4c7e0_d1af_11eb_873d_0242ac1c0002row24_col2{\n",
              "            background-color:  #f4fbfc;\n",
              "            color:  #000000;\n",
              "        }#T_fdf4c7e0_d1af_11eb_873d_0242ac1c0002row20_col1,#T_fdf4c7e0_d1af_11eb_873d_0242ac1c0002row20_col2{\n",
              "            background-color:  #e9f7fa;\n",
              "            color:  #000000;\n",
              "        }#T_fdf4c7e0_d1af_11eb_873d_0242ac1c0002row21_col1,#T_fdf4c7e0_d1af_11eb_873d_0242ac1c0002row21_col2{\n",
              "            background-color:  #f7fcfd;\n",
              "            color:  #000000;\n",
              "        }#T_fdf4c7e0_d1af_11eb_873d_0242ac1c0002row22_col1,#T_fdf4c7e0_d1af_11eb_873d_0242ac1c0002row22_col2,#T_fdf4c7e0_d1af_11eb_873d_0242ac1c0002row23_col1,#T_fdf4c7e0_d1af_11eb_873d_0242ac1c0002row23_col2{\n",
              "            background-color:  #f6fcfd;\n",
              "            color:  #000000;\n",
              "        }#T_fdf4c7e0_d1af_11eb_873d_0242ac1c0002row26_col1,#T_fdf4c7e0_d1af_11eb_873d_0242ac1c0002row26_col2{\n",
              "            background-color:  #f5fbfd;\n",
              "            color:  #000000;\n",
              "        }#T_fdf4c7e0_d1af_11eb_873d_0242ac1c0002row27_col1,#T_fdf4c7e0_d1af_11eb_873d_0242ac1c0002row27_col2{\n",
              "            background-color:  #f5fbfc;\n",
              "            color:  #000000;\n",
              "        }</style><table id=\"T_fdf4c7e0_d1af_11eb_873d_0242ac1c0002\" ><thead>    <tr>        <th class=\"blank level0\" ></th>        <th class=\"col_heading level0 col0\" >Слово</th>        <th class=\"col_heading level0 col1\" >Количество</th>        <th class=\"col_heading level0 col2\" >Частотность</th>    </tr></thead><tbody>\n",
              "                <tr>\n",
              "                        <th id=\"T_fdf4c7e0_d1af_11eb_873d_0242ac1c0002level0_row0\" class=\"row_heading level0 row0\" >0</th>\n",
              "                        <td id=\"T_fdf4c7e0_d1af_11eb_873d_0242ac1c0002row0_col0\" class=\"data row0 col0\" >наш</td>\n",
              "                        <td id=\"T_fdf4c7e0_d1af_11eb_873d_0242ac1c0002row0_col1\" class=\"data row0 col1\" >10140</td>\n",
              "                        <td id=\"T_fdf4c7e0_d1af_11eb_873d_0242ac1c0002row0_col2\" class=\"data row0 col2\" >0.003840</td>\n",
              "            </tr>\n",
              "            <tr>\n",
              "                        <th id=\"T_fdf4c7e0_d1af_11eb_873d_0242ac1c0002level0_row1\" class=\"row_heading level0 row1\" >1</th>\n",
              "                        <td id=\"T_fdf4c7e0_d1af_11eb_873d_0242ac1c0002row1_col0\" class=\"data row1 col0\" >россия</td>\n",
              "                        <td id=\"T_fdf4c7e0_d1af_11eb_873d_0242ac1c0002row1_col1\" class=\"data row1 col1\" >7980</td>\n",
              "                        <td id=\"T_fdf4c7e0_d1af_11eb_873d_0242ac1c0002row1_col2\" class=\"data row1 col2\" >0.003022</td>\n",
              "            </tr>\n",
              "            <tr>\n",
              "                        <th id=\"T_fdf4c7e0_d1af_11eb_873d_0242ac1c0002level0_row2\" class=\"row_heading level0 row2\" >2</th>\n",
              "                        <td id=\"T_fdf4c7e0_d1af_11eb_873d_0242ac1c0002row2_col0\" class=\"data row2 col0\" >президент</td>\n",
              "                        <td id=\"T_fdf4c7e0_d1af_11eb_873d_0242ac1c0002row2_col1\" class=\"data row2 col1\" >3309</td>\n",
              "                        <td id=\"T_fdf4c7e0_d1af_11eb_873d_0242ac1c0002row2_col2\" class=\"data row2 col2\" >0.001253</td>\n",
              "            </tr>\n",
              "            <tr>\n",
              "                        <th id=\"T_fdf4c7e0_d1af_11eb_873d_0242ac1c0002level0_row3\" class=\"row_heading level0 row3\" >3</th>\n",
              "                        <td id=\"T_fdf4c7e0_d1af_11eb_873d_0242ac1c0002row3_col0\" class=\"data row3 col0\" >власть</td>\n",
              "                        <td id=\"T_fdf4c7e0_d1af_11eb_873d_0242ac1c0002row3_col1\" class=\"data row3 col1\" >1756</td>\n",
              "                        <td id=\"T_fdf4c7e0_d1af_11eb_873d_0242ac1c0002row3_col2\" class=\"data row3 col2\" >0.000665</td>\n",
              "            </tr>\n",
              "            <tr>\n",
              "                        <th id=\"T_fdf4c7e0_d1af_11eb_873d_0242ac1c0002level0_row4\" class=\"row_heading level0 row4\" >4</th>\n",
              "                        <td id=\"T_fdf4c7e0_d1af_11eb_873d_0242ac1c0002row4_col0\" class=\"data row4 col0\" >государство</td>\n",
              "                        <td id=\"T_fdf4c7e0_d1af_11eb_873d_0242ac1c0002row4_col1\" class=\"data row4 col1\" >2059</td>\n",
              "                        <td id=\"T_fdf4c7e0_d1af_11eb_873d_0242ac1c0002row4_col2\" class=\"data row4 col2\" >0.000780</td>\n",
              "            </tr>\n",
              "            <tr>\n",
              "                        <th id=\"T_fdf4c7e0_d1af_11eb_873d_0242ac1c0002level0_row5\" class=\"row_heading level0 row5\" >5</th>\n",
              "                        <td id=\"T_fdf4c7e0_d1af_11eb_873d_0242ac1c0002row5_col0\" class=\"data row5 col0\" >мир</td>\n",
              "                        <td id=\"T_fdf4c7e0_d1af_11eb_873d_0242ac1c0002row5_col1\" class=\"data row5 col1\" >1009</td>\n",
              "                        <td id=\"T_fdf4c7e0_d1af_11eb_873d_0242ac1c0002row5_col2\" class=\"data row5 col2\" >0.000382</td>\n",
              "            </tr>\n",
              "            <tr>\n",
              "                        <th id=\"T_fdf4c7e0_d1af_11eb_873d_0242ac1c0002level0_row6\" class=\"row_heading level0 row6\" >6</th>\n",
              "                        <td id=\"T_fdf4c7e0_d1af_11eb_873d_0242ac1c0002row6_col0\" class=\"data row6 col0\" >война</td>\n",
              "                        <td id=\"T_fdf4c7e0_d1af_11eb_873d_0242ac1c0002row6_col1\" class=\"data row6 col1\" >519</td>\n",
              "                        <td id=\"T_fdf4c7e0_d1af_11eb_873d_0242ac1c0002row6_col2\" class=\"data row6 col2\" >0.000197</td>\n",
              "            </tr>\n",
              "            <tr>\n",
              "                        <th id=\"T_fdf4c7e0_d1af_11eb_873d_0242ac1c0002level0_row7\" class=\"row_heading level0 row7\" >7</th>\n",
              "                        <td id=\"T_fdf4c7e0_d1af_11eb_873d_0242ac1c0002row7_col0\" class=\"data row7 col0\" >народ</td>\n",
              "                        <td id=\"T_fdf4c7e0_d1af_11eb_873d_0242ac1c0002row7_col1\" class=\"data row7 col1\" >720</td>\n",
              "                        <td id=\"T_fdf4c7e0_d1af_11eb_873d_0242ac1c0002row7_col2\" class=\"data row7 col2\" >0.000273</td>\n",
              "            </tr>\n",
              "            <tr>\n",
              "                        <th id=\"T_fdf4c7e0_d1af_11eb_873d_0242ac1c0002level0_row8\" class=\"row_heading level0 row8\" >8</th>\n",
              "                        <td id=\"T_fdf4c7e0_d1af_11eb_873d_0242ac1c0002row8_col0\" class=\"data row8 col0\" >конституция</td>\n",
              "                        <td id=\"T_fdf4c7e0_d1af_11eb_873d_0242ac1c0002row8_col1\" class=\"data row8 col1\" >520</td>\n",
              "                        <td id=\"T_fdf4c7e0_d1af_11eb_873d_0242ac1c0002row8_col2\" class=\"data row8 col2\" >0.000197</td>\n",
              "            </tr>\n",
              "            <tr>\n",
              "                        <th id=\"T_fdf4c7e0_d1af_11eb_873d_0242ac1c0002level0_row9\" class=\"row_heading level0 row9\" >9</th>\n",
              "                        <td id=\"T_fdf4c7e0_d1af_11eb_873d_0242ac1c0002row9_col0\" class=\"data row9 col0\" >советский</td>\n",
              "                        <td id=\"T_fdf4c7e0_d1af_11eb_873d_0242ac1c0002row9_col1\" class=\"data row9 col1\" >667</td>\n",
              "                        <td id=\"T_fdf4c7e0_d1af_11eb_873d_0242ac1c0002row9_col2\" class=\"data row9 col2\" >0.000253</td>\n",
              "            </tr>\n",
              "            <tr>\n",
              "                        <th id=\"T_fdf4c7e0_d1af_11eb_873d_0242ac1c0002level0_row10\" class=\"row_heading level0 row10\" >10</th>\n",
              "                        <td id=\"T_fdf4c7e0_d1af_11eb_873d_0242ac1c0002row10_col0\" class=\"data row10 col0\" >союз</td>\n",
              "                        <td id=\"T_fdf4c7e0_d1af_11eb_873d_0242ac1c0002row10_col1\" class=\"data row10 col1\" >551</td>\n",
              "                        <td id=\"T_fdf4c7e0_d1af_11eb_873d_0242ac1c0002row10_col2\" class=\"data row10 col2\" >0.000209</td>\n",
              "            </tr>\n",
              "            <tr>\n",
              "                        <th id=\"T_fdf4c7e0_d1af_11eb_873d_0242ac1c0002level0_row11\" class=\"row_heading level0 row11\" >11</th>\n",
              "                        <td id=\"T_fdf4c7e0_d1af_11eb_873d_0242ac1c0002row11_col0\" class=\"data row11 col0\" >пенсия</td>\n",
              "                        <td id=\"T_fdf4c7e0_d1af_11eb_873d_0242ac1c0002row11_col1\" class=\"data row11 col1\" >1591</td>\n",
              "                        <td id=\"T_fdf4c7e0_d1af_11eb_873d_0242ac1c0002row11_col2\" class=\"data row11 col2\" >0.000603</td>\n",
              "            </tr>\n",
              "            <tr>\n",
              "                        <th id=\"T_fdf4c7e0_d1af_11eb_873d_0242ac1c0002level0_row12\" class=\"row_heading level0 row12\" >12</th>\n",
              "                        <td id=\"T_fdf4c7e0_d1af_11eb_873d_0242ac1c0002row12_col0\" class=\"data row12 col0\" >образование</td>\n",
              "                        <td id=\"T_fdf4c7e0_d1af_11eb_873d_0242ac1c0002row12_col1\" class=\"data row12 col1\" >1562</td>\n",
              "                        <td id=\"T_fdf4c7e0_d1af_11eb_873d_0242ac1c0002row12_col2\" class=\"data row12 col2\" >0.000592</td>\n",
              "            </tr>\n",
              "            <tr>\n",
              "                        <th id=\"T_fdf4c7e0_d1af_11eb_873d_0242ac1c0002level0_row13\" class=\"row_heading level0 row13\" >13</th>\n",
              "                        <td id=\"T_fdf4c7e0_d1af_11eb_873d_0242ac1c0002row13_col0\" class=\"data row13 col0\" >наука</td>\n",
              "                        <td id=\"T_fdf4c7e0_d1af_11eb_873d_0242ac1c0002row13_col1\" class=\"data row13 col1\" >350</td>\n",
              "                        <td id=\"T_fdf4c7e0_d1af_11eb_873d_0242ac1c0002row13_col2\" class=\"data row13 col2\" >0.000133</td>\n",
              "            </tr>\n",
              "            <tr>\n",
              "                        <th id=\"T_fdf4c7e0_d1af_11eb_873d_0242ac1c0002level0_row14\" class=\"row_heading level0 row14\" >14</th>\n",
              "                        <td id=\"T_fdf4c7e0_d1af_11eb_873d_0242ac1c0002row14_col0\" class=\"data row14 col0\" >свобода</td>\n",
              "                        <td id=\"T_fdf4c7e0_d1af_11eb_873d_0242ac1c0002row14_col1\" class=\"data row14 col1\" >377</td>\n",
              "                        <td id=\"T_fdf4c7e0_d1af_11eb_873d_0242ac1c0002row14_col2\" class=\"data row14 col2\" >0.000143</td>\n",
              "            </tr>\n",
              "            <tr>\n",
              "                        <th id=\"T_fdf4c7e0_d1af_11eb_873d_0242ac1c0002level0_row15\" class=\"row_heading level0 row15\" >15</th>\n",
              "                        <td id=\"T_fdf4c7e0_d1af_11eb_873d_0242ac1c0002row15_col0\" class=\"data row15 col0\" >язык</td>\n",
              "                        <td id=\"T_fdf4c7e0_d1af_11eb_873d_0242ac1c0002row15_col1\" class=\"data row15 col1\" >690</td>\n",
              "                        <td id=\"T_fdf4c7e0_d1af_11eb_873d_0242ac1c0002row15_col2\" class=\"data row15 col2\" >0.000261</td>\n",
              "            </tr>\n",
              "            <tr>\n",
              "                        <th id=\"T_fdf4c7e0_d1af_11eb_873d_0242ac1c0002level0_row16\" class=\"row_heading level0 row16\" >16</th>\n",
              "                        <td id=\"T_fdf4c7e0_d1af_11eb_873d_0242ac1c0002row16_col0\" class=\"data row16 col0\" >коррупция</td>\n",
              "                        <td id=\"T_fdf4c7e0_d1af_11eb_873d_0242ac1c0002row16_col1\" class=\"data row16 col1\" >446</td>\n",
              "                        <td id=\"T_fdf4c7e0_d1af_11eb_873d_0242ac1c0002row16_col2\" class=\"data row16 col2\" >0.000169</td>\n",
              "            </tr>\n",
              "            <tr>\n",
              "                        <th id=\"T_fdf4c7e0_d1af_11eb_873d_0242ac1c0002level0_row17\" class=\"row_heading level0 row17\" >17</th>\n",
              "                        <td id=\"T_fdf4c7e0_d1af_11eb_873d_0242ac1c0002row17_col0\" class=\"data row17 col0\" >крым</td>\n",
              "                        <td id=\"T_fdf4c7e0_d1af_11eb_873d_0242ac1c0002row17_col1\" class=\"data row17 col1\" >296</td>\n",
              "                        <td id=\"T_fdf4c7e0_d1af_11eb_873d_0242ac1c0002row17_col2\" class=\"data row17 col2\" >0.000112</td>\n",
              "            </tr>\n",
              "            <tr>\n",
              "                        <th id=\"T_fdf4c7e0_d1af_11eb_873d_0242ac1c0002level0_row18\" class=\"row_heading level0 row18\" >18</th>\n",
              "                        <td id=\"T_fdf4c7e0_d1af_11eb_873d_0242ac1c0002row18_col0\" class=\"data row18 col0\" >русский</td>\n",
              "                        <td id=\"T_fdf4c7e0_d1af_11eb_873d_0242ac1c0002row18_col1\" class=\"data row18 col1\" >680</td>\n",
              "                        <td id=\"T_fdf4c7e0_d1af_11eb_873d_0242ac1c0002row18_col2\" class=\"data row18 col2\" >0.000258</td>\n",
              "            </tr>\n",
              "            <tr>\n",
              "                        <th id=\"T_fdf4c7e0_d1af_11eb_873d_0242ac1c0002level0_row19\" class=\"row_heading level0 row19\" >19</th>\n",
              "                        <td id=\"T_fdf4c7e0_d1af_11eb_873d_0242ac1c0002row19_col0\" class=\"data row19 col0\" >мировой</td>\n",
              "                        <td id=\"T_fdf4c7e0_d1af_11eb_873d_0242ac1c0002row19_col1\" class=\"data row19 col1\" >427</td>\n",
              "                        <td id=\"T_fdf4c7e0_d1af_11eb_873d_0242ac1c0002row19_col2\" class=\"data row19 col2\" >0.000162</td>\n",
              "            </tr>\n",
              "            <tr>\n",
              "                        <th id=\"T_fdf4c7e0_d1af_11eb_873d_0242ac1c0002level0_row20\" class=\"row_heading level0 row20\" >20</th>\n",
              "                        <td id=\"T_fdf4c7e0_d1af_11eb_873d_0242ac1c0002row20_col0\" class=\"data row20 col0\" >иностранный</td>\n",
              "                        <td id=\"T_fdf4c7e0_d1af_11eb_873d_0242ac1c0002row20_col1\" class=\"data row20 col1\" >1034</td>\n",
              "                        <td id=\"T_fdf4c7e0_d1af_11eb_873d_0242ac1c0002row20_col2\" class=\"data row20 col2\" >0.000392</td>\n",
              "            </tr>\n",
              "            <tr>\n",
              "                        <th id=\"T_fdf4c7e0_d1af_11eb_873d_0242ac1c0002level0_row21\" class=\"row_heading level0 row21\" >21</th>\n",
              "                        <td id=\"T_fdf4c7e0_d1af_11eb_873d_0242ac1c0002row21_col0\" class=\"data row21 col0\" >восточный</td>\n",
              "                        <td id=\"T_fdf4c7e0_d1af_11eb_873d_0242ac1c0002row21_col1\" class=\"data row21 col1\" >67</td>\n",
              "                        <td id=\"T_fdf4c7e0_d1af_11eb_873d_0242ac1c0002row21_col2\" class=\"data row21 col2\" >0.000025</td>\n",
              "            </tr>\n",
              "            <tr>\n",
              "                        <th id=\"T_fdf4c7e0_d1af_11eb_873d_0242ac1c0002level0_row22\" class=\"row_heading level0 row22\" >22</th>\n",
              "                        <td id=\"T_fdf4c7e0_d1af_11eb_873d_0242ac1c0002row22_col0\" class=\"data row22 col0\" >западный</td>\n",
              "                        <td id=\"T_fdf4c7e0_d1af_11eb_873d_0242ac1c0002row22_col1\" class=\"data row22 col1\" >118</td>\n",
              "                        <td id=\"T_fdf4c7e0_d1af_11eb_873d_0242ac1c0002row22_col2\" class=\"data row22 col2\" >0.000045</td>\n",
              "            </tr>\n",
              "            <tr>\n",
              "                        <th id=\"T_fdf4c7e0_d1af_11eb_873d_0242ac1c0002level0_row23\" class=\"row_heading level0 row23\" >23</th>\n",
              "                        <td id=\"T_fdf4c7e0_d1af_11eb_873d_0242ac1c0002row23_col0\" class=\"data row23 col0\" >запад</td>\n",
              "                        <td id=\"T_fdf4c7e0_d1af_11eb_873d_0242ac1c0002row23_col1\" class=\"data row23 col1\" >122</td>\n",
              "                        <td id=\"T_fdf4c7e0_d1af_11eb_873d_0242ac1c0002row23_col2\" class=\"data row23 col2\" >0.000046</td>\n",
              "            </tr>\n",
              "            <tr>\n",
              "                        <th id=\"T_fdf4c7e0_d1af_11eb_873d_0242ac1c0002level0_row24\" class=\"row_heading level0 row24\" >24</th>\n",
              "                        <td id=\"T_fdf4c7e0_d1af_11eb_873d_0242ac1c0002row24_col0\" class=\"data row24 col0\" >европа</td>\n",
              "                        <td id=\"T_fdf4c7e0_d1af_11eb_873d_0242ac1c0002row24_col1\" class=\"data row24 col1\" >294</td>\n",
              "                        <td id=\"T_fdf4c7e0_d1af_11eb_873d_0242ac1c0002row24_col2\" class=\"data row24 col2\" >0.000111</td>\n",
              "            </tr>\n",
              "            <tr>\n",
              "                        <th id=\"T_fdf4c7e0_d1af_11eb_873d_0242ac1c0002level0_row25\" class=\"row_heading level0 row25\" >25</th>\n",
              "                        <td id=\"T_fdf4c7e0_d1af_11eb_873d_0242ac1c0002row25_col0\" class=\"data row25 col0\" >украина</td>\n",
              "                        <td id=\"T_fdf4c7e0_d1af_11eb_873d_0242ac1c0002row25_col1\" class=\"data row25 col1\" >435</td>\n",
              "                        <td id=\"T_fdf4c7e0_d1af_11eb_873d_0242ac1c0002row25_col2\" class=\"data row25 col2\" >0.000165</td>\n",
              "            </tr>\n",
              "            <tr>\n",
              "                        <th id=\"T_fdf4c7e0_d1af_11eb_873d_0242ac1c0002level0_row26\" class=\"row_heading level0 row26\" >26</th>\n",
              "                        <td id=\"T_fdf4c7e0_d1af_11eb_873d_0242ac1c0002row26_col0\" class=\"data row26 col0\" >сша</td>\n",
              "                        <td id=\"T_fdf4c7e0_d1af_11eb_873d_0242ac1c0002row26_col1\" class=\"data row26 col1\" >210</td>\n",
              "                        <td id=\"T_fdf4c7e0_d1af_11eb_873d_0242ac1c0002row26_col2\" class=\"data row26 col2\" >0.000080</td>\n",
              "            </tr>\n",
              "            <tr>\n",
              "                        <th id=\"T_fdf4c7e0_d1af_11eb_873d_0242ac1c0002level0_row27\" class=\"row_heading level0 row27\" >27</th>\n",
              "                        <td id=\"T_fdf4c7e0_d1af_11eb_873d_0242ac1c0002row27_col0\" class=\"data row27 col0\" >америка</td>\n",
              "                        <td id=\"T_fdf4c7e0_d1af_11eb_873d_0242ac1c0002row27_col1\" class=\"data row27 col1\" >230</td>\n",
              "                        <td id=\"T_fdf4c7e0_d1af_11eb_873d_0242ac1c0002row27_col2\" class=\"data row27 col2\" >0.000087</td>\n",
              "            </tr>\n",
              "    </tbody></table>"
            ],
            "text/plain": [
              "<pandas.io.formats.style.Styler at 0x7f268b73c5d0>"
            ]
          },
          "metadata": {
            "tags": []
          },
          "execution_count": 153
        }
      ]
    },
    {
      "cell_type": "code",
      "metadata": {
        "id": "6lzBTXg-Yr77"
      },
      "source": [
        "from matplotlib import pyplot as plt"
      ],
      "execution_count": 82,
      "outputs": []
    },
    {
      "cell_type": "code",
      "metadata": {
        "colab": {
          "base_uri": "https://localhost:8080/",
          "height": 622
        },
        "id": "Fy48yRx9VR_M",
        "outputId": "43344b2d-7eb5-4a4c-a0a3-16c379e8069c"
      },
      "source": [
        "w_data.plot.barh (x = 'Слово', y ='Частотность', figsize = (10, 10), color=['green'])\n",
        "\n",
        "plt.title(\"Частотность слов за 2018 год\")\n",
        "plt.xlabel(\"Слово\")\n",
        "plt.ylabel(\"Частотность слова\")\n",
        "plt.savefig('2018_p.png')"
      ],
      "execution_count": 155,
      "outputs": [
        {
          "output_type": "display_data",
          "data": {
            "image/png": "[encoded data removed]",
            "text/plain": [
              "<Figure size 720x720 with 1 Axes>"
            ]
          },
          "metadata": {
            "tags": [],
            "needs_background": "light"
          }
        }
      ]
    }
  ]
}